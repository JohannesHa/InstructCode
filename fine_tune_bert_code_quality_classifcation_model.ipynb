{
  "cells": [
    {
      "cell_type": "markdown",
      "metadata": {
        "id": "Hbc-LlrjEWaD"
      },
      "source": [
        "# Fine-Tune a BERT model for classifying code quality"
      ]
    },
    {
      "cell_type": "markdown",
      "metadata": {
        "id": "0Hdv8E2X4Jx2"
      },
      "source": [
        "## Setup"
      ]
    },
    {
      "cell_type": "markdown",
      "metadata": {
        "id": "8HuyqD3x4IKB"
      },
      "source": [
        "### Install Dependencies\n",
        "\n",
        "- Weights&Biases \n",
        "- Huggingface Transformer + Datasets library"
      ]
    },
    {
      "cell_type": "code",
      "execution_count": null,
      "metadata": {
        "id": "9lmLvJZ74R4A"
      },
      "outputs": [],
      "source": [
        "%load_ext autoreload\n",
        "%autoreload 2"
      ]
    },
    {
      "cell_type": "code",
      "execution_count": null,
      "metadata": {
        "id": "qBF7NRFN4TGb"
      },
      "outputs": [],
      "source": [
        "!pip install wandb -qU"
      ]
    },
    {
      "cell_type": "code",
      "execution_count": null,
      "metadata": {
        "colab": {
          "base_uri": "https://localhost:8080/"
        },
        "id": "yblqaP594Uiv",
        "outputId": "fc4867f2-36b8-4ab9-812b-927be8fa663b"
      },
      "outputs": [
        {
          "name": "stdout",
          "output_type": "stream",
          "text": [
            "Looking in indexes: https://pypi.org/simple, https://us-python.pkg.dev/colab-wheels/public/simple/\n",
            "Requirement already satisfied: datasets in /usr/local/lib/python3.7/dist-packages (2.4.0)\n",
            "Requirement already satisfied: numpy>=1.17 in /usr/local/lib/python3.7/dist-packages (from datasets) (1.21.6)\n",
            "Requirement already satisfied: fsspec[http]>=2021.11.1 in /usr/local/lib/python3.7/dist-packages (from datasets) (2022.7.1)\n",
            "Requirement already satisfied: packaging in /usr/local/lib/python3.7/dist-packages (from datasets) (21.3)\n",
            "Requirement already satisfied: responses<0.19 in /usr/local/lib/python3.7/dist-packages (from datasets) (0.18.0)\n",
            "Requirement already satisfied: tqdm>=4.62.1 in /usr/local/lib/python3.7/dist-packages (from datasets) (4.64.0)\n",
            "Requirement already satisfied: pandas in /usr/local/lib/python3.7/dist-packages (from datasets) (1.3.5)\n",
            "Requirement already satisfied: requests>=2.19.0 in /usr/local/lib/python3.7/dist-packages (from datasets) (2.23.0)\n",
            "Requirement already satisfied: xxhash in /usr/local/lib/python3.7/dist-packages (from datasets) (3.0.0)\n",
            "Requirement already satisfied: huggingface-hub<1.0.0,>=0.1.0 in /usr/local/lib/python3.7/dist-packages (from datasets) (0.9.0)\n",
            "Requirement already satisfied: multiprocess in /usr/local/lib/python3.7/dist-packages (from datasets) (0.70.13)\n",
            "Requirement already satisfied: pyarrow>=6.0.0 in /usr/local/lib/python3.7/dist-packages (from datasets) (6.0.1)\n",
            "Requirement already satisfied: aiohttp in /usr/local/lib/python3.7/dist-packages (from datasets) (3.8.1)\n",
            "Requirement already satisfied: importlib-metadata in /usr/local/lib/python3.7/dist-packages (from datasets) (4.12.0)\n",
            "Requirement already satisfied: dill<0.3.6 in /usr/local/lib/python3.7/dist-packages (from datasets) (0.3.5.1)\n",
            "Requirement already satisfied: filelock in /usr/local/lib/python3.7/dist-packages (from huggingface-hub<1.0.0,>=0.1.0->datasets) (3.8.0)\n",
            "Requirement already satisfied: typing-extensions>=3.7.4.3 in /usr/local/lib/python3.7/dist-packages (from huggingface-hub<1.0.0,>=0.1.0->datasets) (4.1.1)\n",
            "Requirement already satisfied: pyyaml>=5.1 in /usr/local/lib/python3.7/dist-packages (from huggingface-hub<1.0.0,>=0.1.0->datasets) (6.0)\n",
            "Requirement already satisfied: pyparsing!=3.0.5,>=2.0.2 in /usr/local/lib/python3.7/dist-packages (from packaging->datasets) (3.0.9)\n",
            "Requirement already satisfied: certifi>=2017.4.17 in /usr/local/lib/python3.7/dist-packages (from requests>=2.19.0->datasets) (2022.6.15)\n",
            "Requirement already satisfied: urllib3!=1.25.0,!=1.25.1,<1.26,>=1.21.1 in /usr/local/lib/python3.7/dist-packages (from requests>=2.19.0->datasets) (1.25.11)\n",
            "Requirement already satisfied: chardet<4,>=3.0.2 in /usr/local/lib/python3.7/dist-packages (from requests>=2.19.0->datasets) (3.0.4)\n",
            "Requirement already satisfied: idna<3,>=2.5 in /usr/local/lib/python3.7/dist-packages (from requests>=2.19.0->datasets) (2.10)\n",
            "Requirement already satisfied: multidict<7.0,>=4.5 in /usr/local/lib/python3.7/dist-packages (from aiohttp->datasets) (6.0.2)\n",
            "Requirement already satisfied: charset-normalizer<3.0,>=2.0 in /usr/local/lib/python3.7/dist-packages (from aiohttp->datasets) (2.1.0)\n",
            "Requirement already satisfied: asynctest==0.13.0 in /usr/local/lib/python3.7/dist-packages (from aiohttp->datasets) (0.13.0)\n",
            "Requirement already satisfied: yarl<2.0,>=1.0 in /usr/local/lib/python3.7/dist-packages (from aiohttp->datasets) (1.8.1)\n",
            "Requirement already satisfied: frozenlist>=1.1.1 in /usr/local/lib/python3.7/dist-packages (from aiohttp->datasets) (1.3.1)\n",
            "Requirement already satisfied: async-timeout<5.0,>=4.0.0a3 in /usr/local/lib/python3.7/dist-packages (from aiohttp->datasets) (4.0.2)\n",
            "Requirement already satisfied: aiosignal>=1.1.2 in /usr/local/lib/python3.7/dist-packages (from aiohttp->datasets) (1.2.0)\n",
            "Requirement already satisfied: attrs>=17.3.0 in /usr/local/lib/python3.7/dist-packages (from aiohttp->datasets) (22.1.0)\n",
            "Requirement already satisfied: zipp>=0.5 in /usr/local/lib/python3.7/dist-packages (from importlib-metadata->datasets) (3.8.1)\n",
            "Requirement already satisfied: python-dateutil>=2.7.3 in /usr/local/lib/python3.7/dist-packages (from pandas->datasets) (2.8.2)\n",
            "Requirement already satisfied: pytz>=2017.3 in /usr/local/lib/python3.7/dist-packages (from pandas->datasets) (2022.2.1)\n",
            "Requirement already satisfied: six>=1.5 in /usr/local/lib/python3.7/dist-packages (from python-dateutil>=2.7.3->pandas->datasets) (1.15.0)\n"
          ]
        }
      ],
      "source": [
        "# install datasets\n",
        "!pip install datasets\n",
        "\n",
        "# Make sure that we have a recent version of pyarrow in the session before we continue - otherwise reboot Colab to activate it\n",
        "import pyarrow\n",
        "if int(pyarrow.__version__.split('.')[1]) < 16 and int(pyarrow.__version__.split('.')[0]) == 0:\n",
        "    import os\n",
        "    os.kill(os.getpid(), 9)"
      ]
    },
    {
      "cell_type": "code",
      "execution_count": null,
      "metadata": {
        "colab": {
          "base_uri": "https://localhost:8080/"
        },
        "id": "YmwwpTKx5Re2",
        "outputId": "c3dbf22c-fa72-4682-98bb-e8615f4ae9e4"
      },
      "outputs": [
        {
          "name": "stdout",
          "output_type": "stream",
          "text": [
            "Looking in indexes: https://pypi.org/simple, https://us-python.pkg.dev/colab-wheels/public/simple/\n",
            "Requirement already satisfied: transformers in /usr/local/lib/python3.7/dist-packages (4.21.2)\n",
            "Requirement already satisfied: importlib-metadata in /usr/local/lib/python3.7/dist-packages (from transformers) (4.12.0)\n",
            "Requirement already satisfied: requests in /usr/local/lib/python3.7/dist-packages (from transformers) (2.23.0)\n",
            "Requirement already satisfied: pyyaml>=5.1 in /usr/local/lib/python3.7/dist-packages (from transformers) (6.0)\n",
            "Requirement already satisfied: numpy>=1.17 in /usr/local/lib/python3.7/dist-packages (from transformers) (1.21.6)\n",
            "Requirement already satisfied: filelock in /usr/local/lib/python3.7/dist-packages (from transformers) (3.8.0)\n",
            "Requirement already satisfied: tokenizers!=0.11.3,<0.13,>=0.11.1 in /usr/local/lib/python3.7/dist-packages (from transformers) (0.12.1)\n",
            "Requirement already satisfied: tqdm>=4.27 in /usr/local/lib/python3.7/dist-packages (from transformers) (4.64.0)\n",
            "Requirement already satisfied: regex!=2019.12.17 in /usr/local/lib/python3.7/dist-packages (from transformers) (2022.6.2)\n",
            "Requirement already satisfied: packaging>=20.0 in /usr/local/lib/python3.7/dist-packages (from transformers) (21.3)\n",
            "Requirement already satisfied: huggingface-hub<1.0,>=0.1.0 in /usr/local/lib/python3.7/dist-packages (from transformers) (0.9.0)\n",
            "Requirement already satisfied: typing-extensions>=3.7.4.3 in /usr/local/lib/python3.7/dist-packages (from huggingface-hub<1.0,>=0.1.0->transformers) (4.1.1)\n",
            "Requirement already satisfied: pyparsing!=3.0.5,>=2.0.2 in /usr/local/lib/python3.7/dist-packages (from packaging>=20.0->transformers) (3.0.9)\n",
            "Requirement already satisfied: zipp>=0.5 in /usr/local/lib/python3.7/dist-packages (from importlib-metadata->transformers) (3.8.1)\n",
            "Requirement already satisfied: certifi>=2017.4.17 in /usr/local/lib/python3.7/dist-packages (from requests->transformers) (2022.6.15)\n",
            "Requirement already satisfied: idna<3,>=2.5 in /usr/local/lib/python3.7/dist-packages (from requests->transformers) (2.10)\n",
            "Requirement already satisfied: urllib3!=1.25.0,!=1.25.1,<1.26,>=1.21.1 in /usr/local/lib/python3.7/dist-packages (from requests->transformers) (1.25.11)\n",
            "Requirement already satisfied: chardet<4,>=3.0.2 in /usr/local/lib/python3.7/dist-packages (from requests->transformers) (3.0.4)\n"
          ]
        }
      ],
      "source": [
        "!pip install transformers"
      ]
    },
    {
      "cell_type": "code",
      "execution_count": null,
      "metadata": {
        "colab": {
          "base_uri": "https://localhost:8080/",
          "height": 271,
          "referenced_widgets": [
            "1d0ca269a58d4aa6bdee8cef6679cefb",
            "c529ff7c243c485cbcfd109642c147fe",
            "f1d2295c164f4d7b83c130de4e1fe3b3",
            "c2c8e12b4256417d92104aa28fd2907c",
            "49a88009fbe74ba48102c0873d04bf03",
            "ff65d81be125458997b44372e4f283b8",
            "e93e17ea2e2d4e71b3d263e3c431dda1",
            "221c13b4de3240fd97e97e0cde13bb7e",
            "a7d8c86cdbe84dd29ec783b38f76be1e",
            "c3779a02e1c141ae95323966e63bd557",
            "6aa2ef60e35f4959a1be383b25fc32bc",
            "a2d13a24f96b49928f54884dc2c38585",
            "1a315a4f30044ea2bfac1feb1ea1f3e2",
            "58f18e5e9ec1407e997bceee1dfa32c9"
          ]
        },
        "id": "aLlf-W48yUK5",
        "outputId": "f7553f16-68f7-4484-ba01-3e285235bf6a"
      },
      "outputs": [
        {
          "data": {
            "application/vnd.jupyter.widget-view+json": {
              "model_id": "1d0ca269a58d4aa6bdee8cef6679cefb",
              "version_major": 2,
              "version_minor": 0
            },
            "text/plain": [
              "VBox(children=(HTML(value='<center> <img\\nsrc=https://huggingface.co/front/assets/huggingface_logo-noborder.sv…"
            ]
          },
          "metadata": {},
          "output_type": "display_data"
        }
      ],
      "source": [
        "from huggingface_hub import notebook_login\n",
        "\n",
        "notebook_login()"
      ]
    },
    {
      "cell_type": "code",
      "execution_count": null,
      "metadata": {
        "colab": {
          "base_uri": "https://localhost:8080/"
        },
        "id": "LS6OohRNicNP",
        "outputId": "bcd1377d-a1a0-4942-c672-07ede34ebe26"
      },
      "outputs": [
        {
          "name": "stderr",
          "output_type": "stream",
          "text": [
            "\u001b[34m\u001b[1mwandb\u001b[0m: Currently logged in as: \u001b[33mjohannesha\u001b[0m (\u001b[33mmrubis\u001b[0m). Use \u001b[1m`wandb login --relogin`\u001b[0m to force relogin\n"
          ]
        },
        {
          "data": {
            "text/plain": [
              "True"
            ]
          },
          "execution_count": 6,
          "metadata": {},
          "output_type": "execute_result"
        }
      ],
      "source": [
        "import wandb\n",
        "wandb.login()"
      ]
    },
    {
      "cell_type": "markdown",
      "metadata": {
        "id": "xK1BBRLCyIiD"
      },
      "source": [
        "## Prepare Data"
      ]
    },
    {
      "cell_type": "markdown",
      "metadata": {
        "id": "7KDKo0w1yWN2"
      },
      "source": [
        "### Load \"Good\" Code Quality data"
      ]
    },
    {
      "cell_type": "markdown",
      "metadata": {
        "id": "DpHHD4S2yN4f"
      },
      "source": [
        "Load [StackOverflow Question Code Dataset ](https://github.com/LittleYUYU/StackOverflow-Question-Code-Dataset)\n",
        "\n",
        "-> 148K Python question-code pairs\n",
        "\n",
        "Download dataset and load into transformer dataset library\n",
        "I reuploaded the datasets onto my personal drive from here:\n",
        "- Code snippets Download: [https://github.com/LittleYUYU/StackOverflow-Question-Code-Dataset/blob/master/annotation_tool/data/code_solution_labeled_data/source/python_how_to_do_it_qid_by_classifier_unlabeled_single_code_answer_qid_to_code.pickle](https://github.com/LittleYUYU/StackOverflow-Question-Code-Dataset/blob/master/annotation_tool/data/code_solution_labeled_data/source/python_how_to_do_it_qid_by_classifier_unlabeled_single_code_answer_qid_to_code.pickle)\n",
        "- Question titles: [https://github.com/LittleYUYU/StackOverflow-Question-Code-Dataset/blob/master/annotation_tool/data/code_solution_labeled_data/source/python_how_to_do_it_qid_by_classifier_unlabeled_single_code_answer_qid_to_title.pickle](https://github.com/LittleYUYU/StackOverflow-Question-Code-Dataset/blob/master/annotation_tool/data/code_solution_labeled_data/source/python_how_to_do_it_qid_by_classifier_unlabeled_single_code_answer_qid_to_title.pickle)"
      ]
    },
    {
      "cell_type": "code",
      "execution_count": null,
      "metadata": {
        "colab": {
          "base_uri": "https://localhost:8080/"
        },
        "id": "QhxIHovxx6gK",
        "outputId": "09569a32-0acc-41c2-fcc2-897f978d323e"
      },
      "outputs": [
        {
          "name": "stdout",
          "output_type": "stream",
          "text": [
            "Drive already mounted at /content/drive; to attempt to forcibly remount, call drive.mount(\"/content/drive\", force_remount=True).\n"
          ]
        }
      ],
      "source": [
        "import pickle\n",
        "from google.colab import drive\n",
        "drive.mount('/content/drive')"
      ]
    },
    {
      "cell_type": "code",
      "execution_count": null,
      "metadata": {
        "colab": {
          "base_uri": "https://localhost:8080/"
        },
        "id": "-FaNOBVV4ri_",
        "outputId": "ec81c99b-55a7-49a3-ddd9-85f8c4478d72"
      },
      "outputs": [
        {
          "name": "stdout",
          "output_type": "stream",
          "text": [
            "python_how_to_do_it_qid_by_classifier_unlabeled_single_code_answer_qid_to_code.pickle.txt\n",
            "python_how_to_do_it_qid_by_classifier_unlabeled_single_code_answer_qid_to_title.pickle.txt\n"
          ]
        }
      ],
      "source": [
        "!ls /content/drive/MyDrive/Deep\\ Learning\\ Project"
      ]
    },
    {
      "cell_type": "markdown",
      "metadata": {
        "id": "R1aQxJ5-yawj"
      },
      "source": [
        "### Artificially create \"bad\"/\"buggy\" code\n",
        "\n",
        "artifically creating bad/buggy code by, for example randomly:\n",
        "- Breaking/Swapping the Question/Answer relationship\n",
        "- Introduing python anti-patterns, i.e. \"non-pythonic\" ways of writing code. e.g:\n",
        "  - add non-explicit variable names -> e.g. one etter variable names\n",
        "  - remove all comments\n",
        "  - turn function names into camel case:\n",
        "    ```\n",
        "    # bad practice\n",
        "    def computeNetValue(price, tax):\n",
        "    ```\n",
        "  - Not iterating directly over the elements of an iterator:\n",
        "    ```\n",
        "    # bad practice\n",
        "\n",
        "    for i in range(len(list_of_fruits)):\n",
        "        fruit = list_of_fruits[i]\n",
        "        process_fruit(fruit)\n",
        "        \n",
        "    # good practice\n",
        "\n",
        "    for fruit in list_of_fruits:\n",
        "        process_fruit(fruit)\n",
        "    ```\n",
        "  - Passing mutable default arguments to functions (i.e. an empty list):\n",
        "  ```\n",
        "  # bad practice\n",
        "    def append_to(element, to=[]):\n",
        "        to.append(element)\n",
        "        return to\n",
        "\n",
        "    >>> my_list = append_to(\"a\") \n",
        "    >>> print(my_list)\n",
        "    >>> [\"a\"]\n",
        "\n",
        "    >>> my_second_list = append_to(\"b\") \n",
        "    >>> print(my_second_list)\n",
        "    >>> [\"a\", \"b\"]\n",
        "\n",
        "    # good practice \n",
        "    def append_to(element, to=None):\n",
        "        if to is None:\n",
        "            to = []\n",
        "        to.append(element)\n",
        "        return to\n",
        "  ```\n",
        "    -> List of more Python anti-patterns: https://towardsdatascience.com/18-common-python-anti-patterns-i-wish-i-had-known-before-44d983805f0f"
      ]
    },
    {
      "cell_type": "code",
      "execution_count": null,
      "metadata": {
        "id": "cM8t6HWE4tAw"
      },
      "outputs": [],
      "source": [
        "# load pickle files as pandas dataframes\n",
        "import pandas as pd\n",
        "from datasets import Dataset\n",
        "\n",
        "data_path = \"/content/drive/MyDrive/Deep Learning Project\"\n",
        "\n",
        "# Only load the code snippets into a dataframe for now and create a huggingface dataset with them:\n",
        "questions_dict = pd.read_pickle(data_path+'/python_how_to_do_it_qid_by_classifier_unlabeled_single_code_answer_qid_to_title.pickle.txt')\n",
        "code_snippets_dict = pd.read_pickle(data_path+'/python_how_to_do_it_qid_by_classifier_unlabeled_single_code_answer_qid_to_code.pickle.txt')"
      ]
    },
    {
      "cell_type": "code",
      "execution_count": null,
      "metadata": {
        "id": "_h69YbWhsd37"
      },
      "outputs": [],
      "source": [
        "good_code_snippets = []\n",
        "\n",
        "for idx, ((id_question, question), (id_code_snippet, code_snippet)) in enumerate(zip(questions_dict.items(), code_snippets_dict.items())):\n",
        "    if id_question == id_code_snippet:\n",
        "      question_code_snippet_pair = f\"# {question}\\n\\n{code_snippet}\"\n",
        "      good_code_snippets.append({\"question_code_snippet_pair\": question_code_snippet_pair, \"idx\": idx, \"label\": 1})\n",
        "    else:\n",
        "        print(\"ID's are not the same!\")\n"
      ]
    },
    {
      "cell_type": "code",
      "execution_count": null,
      "metadata": {
        "id": "3VTezxTPOgi7"
      },
      "outputs": [],
      "source": [
        "# Helper functions for creating \"artificially\" bad code\n",
        "import re\n",
        "import random\n",
        "import string\n",
        "\n",
        "# Regex for getting the function name\n",
        "def get_function_names(code_snippet):\n",
        "  function_names = re.findall('def\\s(\\w+)\\(', code_snippet)\n",
        "  return function_names\n",
        "\n",
        "# Regex for getting the function name\n",
        "def get_varible_names(code_snippet):\n",
        "  variable_names = re.findall('\\s(\\w+)\\ =', code_snippet)\n",
        "  return variable_names\n",
        "\n",
        "def replace_funtion_names_with_one_letter_names(code_snippet):\n",
        "  all_function_names = get_function_names(code_snippet)\n",
        "\n",
        "  if all_function_names:\n",
        "    for function_name in all_function_names:\n",
        "      # replace all occurences of this function name in the code snippet\n",
        "      random_letter = random.choice(string.ascii_letters)\n",
        "      code_snippet = code_snippet.replace(function_name, random_letter)\n",
        "  return code_snippet\n",
        "\n",
        "def replace_funtion_names_with_camel_case(code_snippet):\n",
        "  all_function_names = get_function_names(code_snippet)\n",
        "\n",
        "  if all_function_names:\n",
        "    for function_name in all_function_names:\n",
        "      # replace all occurences of this function name in the code snippet\n",
        "      code_snippet = code_snippet.replace(function_name, into_camel_case(function_name))\n",
        "  return code_snippet\n",
        "\n",
        "def replace_variables_with_one_letter_names(code_snippet):\n",
        "  variable_names = get_varible_names(code_snippet) # Get all variables\n",
        "  \n",
        "  for variable_name in variable_names:\n",
        "    random_letter = random.choice(string.ascii_letters)\n",
        "    code_snippet = code_snippet.replace(variable_name, random_letter)\n",
        "  return code_snippet\n",
        "\n",
        "def replace_variables_with_camel_case(code_snippet):  \n",
        "  variable_names = get_varible_names(code_snippet) # Get all variables\n",
        "\n",
        "  for variable_name in variable_names:\n",
        "    code_snippet =  code_snippet.replace(variable_name, into_camel_case(variable_name))\n",
        "  return code_snippet\n",
        "\n",
        "def into_camel_case(name):\n",
        "    output = ''.join(x for x in name.title() if x.isalnum())\n",
        "    if output:\n",
        "      return output[0].lower() + (output[1:] if len(output) > 1 else \"\")\n",
        "    else:\n",
        "      return name\n",
        "\n",
        "def remove_all_comments_from_a_code_snippet(code_snippet):\n",
        "  lines = code_snippet.splitlines()\n",
        "  lines_without_comments = []\n",
        "  for line in lines:\n",
        "    if line.startswith('#'):\n",
        "      continue \n",
        "    lines_without_comments.append(line)\n",
        "  return \"\\n\".join(lines_without_comments)\n",
        "  "
      ]
    },
    {
      "cell_type": "code",
      "execution_count": null,
      "metadata": {
        "colab": {
          "base_uri": "https://localhost:8080/"
        },
        "id": "pLFGkCVU04MH",
        "outputId": "0016966e-cd5a-4392-bdc5-5607245e27b8"
      },
      "outputs": [
        {
          "name": "stdout",
          "output_type": "stream",
          "text": [
            "Original \"Good\" Code Snippet:  \n",
            "from bs4 import BeautifulSoup\n",
            "import json\n",
            "\n",
            "# Function to grab json in selenium\n",
            "def grab_json_in_selenium(driver) -> dict:\n",
            "  soup = BeautifulSoup(driver.page_source)\n",
            "  dict_from_json = json.loads(soup.find(\"body\").text)\n",
            "  return dict_from_json\n",
            "\n",
            "Replacing Function names with one letter names:\n",
            "\n",
            "from bs4 import BeautifulSoup\n",
            "import json\n",
            "\n",
            "# Function to grab json in selenium\n",
            "def J(driver) -> dict:\n",
            "  soup = BeautifulSoup(driver.page_source)\n",
            "  dict_from_json = json.loads(soup.find(\"body\").text)\n",
            "  return dict_from_json\n",
            "\n",
            "Turn Function names into camel case:\n",
            "\n",
            "from bs4 import BeautifulSoup\n",
            "import json\n",
            "\n",
            "# Function to grab json in selenium\n",
            "def grabJsonInSelenium(driver) -> dict:\n",
            "  soup = BeautifulSoup(driver.page_source)\n",
            "  dict_from_json = json.loads(soup.find(\"body\").text)\n",
            "  return dict_from_json\n",
            "\n",
            "Replace variables with one letter names:\n",
            "\n",
            "from bs4 import BeautifulSoup\n",
            "import json\n",
            "\n",
            "# Function to grab json in selenium\n",
            "def grab_json_in_selenium(driver) -> dict:\n",
            "  l = BeautifulSoup(driver.page_source)\n",
            "  y = json.loads(l.find(\"body\").text)\n",
            "  return y\n",
            "\n",
            "Turn variables into camel case:\n",
            "\n",
            "from bs4 import BeautifulSoup\n",
            "import json\n",
            "\n",
            "# Function to grab json in selenium\n",
            "def grab_json_in_selenium(driver) -> dict:\n",
            "  soup = BeautifulSoup(driver.page_source)\n",
            "  dictFromJson = json.loads(soup.find(\"body\").text)\n",
            "  return dictFromJson\n",
            "\n",
            "Remove all comments:\n",
            "\n",
            "from bs4 import BeautifulSoup\n",
            "import json\n",
            "\n",
            "def grab_json_in_selenium(driver) -> dict:\n",
            "  soup = BeautifulSoup(driver.page_source)\n",
            "  dict_from_json = json.loads(soup.find(\"body\").text)\n",
            "  return dict_from_json\n"
          ]
        }
      ],
      "source": [
        "# Examples of how we are \"artifically\" making code worse\n",
        "\n",
        "example_code_snippet = \"\"\"\n",
        "from bs4 import BeautifulSoup\n",
        "import json\n",
        "\n",
        "# Function to grab json in selenium\n",
        "def grab_json_in_selenium(driver) -> dict:\n",
        "  soup = BeautifulSoup(driver.page_source)\n",
        "  dict_from_json = json.loads(soup.find(\"body\").text)\n",
        "  return dict_from_json\n",
        "\"\"\"\n",
        "print(\"Original \\\"Good\\\" Code Snippet: \", example_code_snippet)\n",
        "\n",
        "print(\"Replacing Function names with one letter names:\")\n",
        "print(replace_funtion_names_with_one_letter_names(example_code_snippet))\n",
        "\n",
        "print(\"Turn Function names into camel case:\")\n",
        "print(replace_funtion_names_with_camel_case(example_code_snippet))\n",
        "\n",
        "print(\"Replace variables with one letter names:\")\n",
        "print(replace_variables_with_one_letter_names(example_code_snippet))\n",
        "\n",
        "print(\"Turn variables into camel case:\")\n",
        "print(replace_variables_with_camel_case(example_code_snippet))\n",
        "\n",
        "print(\"Remove all comments:\")\n",
        "print(remove_all_comments_from_a_code_snippet(example_code_snippet))"
      ]
    },
    {
      "cell_type": "code",
      "execution_count": null,
      "metadata": {
        "id": "gOyn9K8Ktep5"
      },
      "outputs": [],
      "source": [
        "# Create \"Artificially\" buggy code\n",
        "\n",
        "bad_code_snippets = []\n",
        "\n",
        "code_snippets_as_list = list(code_snippets_dict.items())\n",
        "\n",
        "# For 25% of the code snippets, just break the question/answer relationship by swapping them\n",
        "# Add those as bad code snippets\n",
        "first_quarter_of_questions = list(questions_dict.items())[:int(len(questions_dict)/4)]\n",
        "\n",
        "\n",
        "for idx, (id_question, question) in enumerate(first_quarter_of_questions):\n",
        "  # Loop through question id items and randomly select a code snippet that does not has the same ID\n",
        "  id_code_snippet, code_snippet = random.choice(code_snippets_as_list)\n",
        "\n",
        "  if id_question != id_code_snippet:\n",
        "      question_code_snippet_pair = f\"# {question}\\n\\n{code_snippet}\"\n",
        "      # Add to list of bad code snippets\n",
        "      bad_code_snippets.append({\"question_code_snippet_pair\": question_code_snippet_pair, \"idx\": idx, \"label\": 0})\n",
        "\n",
        "# For the other 75% randomly apply some of the techniques to \"artificially\" create buggy code\n",
        "last_three_quarter_of_questions = list(questions_dict.values())[int(len(questions_dict)/4):]\n",
        "last_three_quarter_of_code_snippets = list(code_snippets_dict.values())[int(len(code_snippets_dict)/4):]\n",
        "\n",
        "for (question, code_snippet) in zip(last_three_quarter_of_questions, last_three_quarter_of_code_snippets):\n",
        "    # Track if one of the augmentation was applied\n",
        "    did_get_augmented = False\n",
        "\n",
        "    # For 50% of the cases apply replacing functions and variables with one letter names, for the other half turn them into camel case\n",
        "    apply_one_letter_name_augmentation = random.choice([True, False])\n",
        "    if apply_one_letter_name_augmentation:\n",
        "      augmented_code_snippet = replace_funtion_names_with_one_letter_names(code_snippet)\n",
        "      augmented_code_snippet = replace_variables_with_one_letter_names(code_snippet)\n",
        "    else:\n",
        "      augmented_code_snippet = replace_funtion_names_with_camel_case(code_snippet)\n",
        "      augmented_code_snippet = replace_variables_with_camel_case(code_snippet)\n",
        "\n",
        "    # Do not add to list if the code snippet did not change\n",
        "    if code_snippet == augmented_code_snippet:\n",
        "      continue\n",
        "    code_snippet = augmented_code_snippet\n",
        "\n",
        "    # with 50% chance also apply \"remove comments\" augmentation\n",
        "    if random.choice([True, False]):\n",
        "      code_snippet = remove_all_comments_from_a_code_snippet(code_snippet)\n",
        "\n",
        "    question_code_snippet_pair = f\"# {question}\\n\\n{code_snippet}\"\n",
        "    # Add to list of bad code snippets\n",
        "    bad_code_snippets.append({\"question_code_snippet_pair\": question_code_snippet_pair, \"idx\": idx, \"label\": 0})\n"
      ]
    },
    {
      "cell_type": "code",
      "execution_count": null,
      "metadata": {
        "colab": {
          "base_uri": "https://localhost:8080/"
        },
        "id": "rRHmditaYNaH",
        "outputId": "bce4128e-bd05-47e9-f647-fb1310526fe4"
      },
      "outputs": [
        {
          "name": "stdout",
          "output_type": "stream",
          "text": [
            "Number of good code snippets:  85294\n",
            "Number of bad code snippets:  50169\n"
          ]
        }
      ],
      "source": [
        "print(\"Number of good code snippets: \", len(good_code_snippets))\n",
        "print(\"Number of bad code snippets: \", len(bad_code_snippets))"
      ]
    },
    {
      "cell_type": "code",
      "execution_count": null,
      "metadata": {
        "id": "TEycNoCA-JzZ"
      },
      "outputs": [],
      "source": [
        "# Merge good and bad good snippets into a dataset\n",
        "merged_code_snippets = good_code_snippets + bad_code_snippets\n",
        "ds = Dataset.from_pandas(pd.DataFrame(merged_code_snippets))"
      ]
    },
    {
      "cell_type": "code",
      "execution_count": null,
      "metadata": {
        "id": "5fA5miDns7QR"
      },
      "outputs": [],
      "source": [
        "# create transformer dataset from the question and code snippet dictionary\n",
        "from datasets import Dataset, DatasetDict\n",
        "\n",
        "train_testvalid = ds.train_test_split(test_size=0.1)\n",
        "# Split the 10% test + valid in half test, half valid\n",
        "test_valid = train_testvalid['test'].train_test_split(test_size=0.5)\n",
        "# gather everyone if you want to have a single DatasetDict\n",
        "train_test_valid_dataset = DatasetDict({\n",
        "    'train': train_testvalid['train'],\n",
        "    'test': test_valid['test'],\n",
        "    'valid': test_valid['train']})\n"
      ]
    },
    {
      "cell_type": "code",
      "execution_count": null,
      "metadata": {
        "colab": {
          "base_uri": "https://localhost:8080/"
        },
        "id": "zTkeZzAWu_ZR",
        "outputId": "5f47cd2a-4814-4406-a555-c77070bf7d1b"
      },
      "outputs": [
        {
          "data": {
            "text/plain": [
              "DatasetDict({\n",
              "    train: Dataset({\n",
              "        features: ['question_code_snippet_pair', 'idx', 'label'],\n",
              "        num_rows: 121916\n",
              "    })\n",
              "    test: Dataset({\n",
              "        features: ['question_code_snippet_pair', 'idx', 'label'],\n",
              "        num_rows: 6774\n",
              "    })\n",
              "    valid: Dataset({\n",
              "        features: ['question_code_snippet_pair', 'idx', 'label'],\n",
              "        num_rows: 6773\n",
              "    })\n",
              "})"
            ]
          },
          "execution_count": 17,
          "metadata": {},
          "output_type": "execute_result"
        }
      ],
      "source": [
        "train_test_valid_dataset"
      ]
    },
    {
      "cell_type": "code",
      "execution_count": null,
      "metadata": {
        "colab": {
          "base_uri": "https://localhost:8080/"
        },
        "id": "C6Cx-FCvvhN2",
        "outputId": "ffdad837-15e3-4741-f11c-c0bca7c72b8c"
      },
      "outputs": [
        {
          "data": {
            "text/plain": [
              "{'question_code_snippet_pair': '# Python reading and writing to tty\\n\\nclass VISA:\\n    def __init__(self, tty_name):\\n        self.ser = serial.Serial()\\n        self.ser.port = tty_name\\n        # If it breaks try the below\\n        #self.serConf() # Uncomment lines here till it works\\n\\n        self.ser.open()\\n        self.ser.flushInput()\\n        self.ser.flushOutput()\\n\\n        self.addr = None\\n        self.setAddress(0)\\n\\n    def cmd(self, cmd_str):\\n        self.ser.write(cmd_str + \"\\\\n\")\\n        sleep(0.5)\\n        return self.ser.readline()\\n\\n    def serConf(self):\\n        self.ser.baudrate = 9600\\n        self.ser.bytesize = serial.EIGHTBITS\\n        self.ser.parity = serial.PARITY_NONE\\n        self.ser.stopbits = serial.STOPBITS_ONE\\n        self.ser.timeout = 0 # Non-Block reading\\n        self.ser.xonxoff = False # Disable Software Flow Control\\n        self.ser.rtscts = False # Disable (RTS/CTS) flow Control\\n        self.ser.dsrdtr = False # Disable (DSR/DTR) flow Control\\n        self.ser.writeTimeout = 2\\n\\n    def close(self):\\n        self.ser.close()\\n',\n",
              " 'idx': 34790,\n",
              " 'label': 1}"
            ]
          },
          "execution_count": 18,
          "metadata": {},
          "output_type": "execute_result"
        }
      ],
      "source": [
        "train_test_valid_dataset[\"train\"][0]"
      ]
    },
    {
      "cell_type": "code",
      "execution_count": null,
      "metadata": {
        "id": "i57FIuDzvqdA"
      },
      "outputs": [],
      "source": [
        "# Randomly picked examples of the dataset:\n",
        "import datasets\n",
        "import random\n",
        "import pandas as pd\n",
        "from IPython.display import display, HTML\n",
        "\n",
        "def pretty_print(df):\n",
        "    # Make snippets in dataframe left alligned and \n",
        "    return display( HTML( df.to_html().replace(\"\\\\n\",\"<br>\") ) )\n",
        "\n",
        "\n",
        "def show_random_elements(dataset, num_examples=10):\n",
        "    assert num_examples <= len(dataset), \"Can't pick more elements than there are in the dataset.\"\n",
        "    picks = []\n",
        "    for _ in range(num_examples):\n",
        "        pick = random.randint(0, len(dataset)-1)\n",
        "        while pick in picks:\n",
        "            pick = random.randint(0, len(dataset)-1)\n",
        "        picks.append(pick)\n",
        "    \n",
        "    df = pd.DataFrame(dataset[picks])\n",
        "    for column, typ in dataset.features.items():\n",
        "        if isinstance(typ, datasets.ClassLabel):\n",
        "            df[column] = df[column].transform(lambda i: typ.names[i])\n",
        "    pretty_print(df)"
      ]
    },
    {
      "cell_type": "code",
      "execution_count": null,
      "metadata": {
        "colab": {
          "base_uri": "https://localhost:8080/",
          "height": 1000
        },
        "id": "XgGGgVt3vv5j",
        "outputId": "007eb162-7e82-4856-82cd-9c920de69e21"
      },
      "outputs": [
        {
          "data": {
            "text/html": [
              "<table border=\"1\" class=\"dataframe\">\n",
              "  <thead>\n",
              "    <tr style=\"text-align: right;\">\n",
              "      <th></th>\n",
              "      <th>question_code_snippet_pair</th>\n",
              "      <th>idx</th>\n",
              "      <th>label</th>\n",
              "    </tr>\n",
              "  </thead>\n",
              "  <tbody>\n",
              "    <tr>\n",
              "      <th>0</th>\n",
              "      <td># Python manager.dict() is very slow compared to regular dict<br><br>jobs = {}<br>job = Job()<br>jobs[job.name] = job<br># insert other jobs in the normal dictionary<br><br>mgr = multiprocessing.Manager()<br>mgr_jobs = mgr.dict()<br>mgr_jobs.update(jobs)<br></td>\n",
              "      <td>65602</td>\n",
              "      <td>1</td>\n",
              "    </tr>\n",
              "    <tr>\n",
              "      <th>1</th>\n",
              "      <td># Python match a string with regex<br><br>&gt;&gt;&gt; line = 'This,is,a,sample,string'<br>&gt;&gt;&gt; \"sample\" in line<br> True<br></td>\n",
              "      <td>22642</td>\n",
              "      <td>1</td>\n",
              "    </tr>\n",
              "    <tr>\n",
              "      <th>2</th>\n",
              "      <td># Slicing string values in each dict from list of dicts?<br><br>def find_between( s, first, last ):<br>    try:<br>        start = s.index( first ) + len( first )<br>        end = s.index( last, start )<br>        return s[start:end]<br>    except ValueError:<br>        return \"\"<br><br>original = [{1: \"xxx [pear] yyy\", 2: \"xxx [apple] zzz\"}, {0: \"aaa [cat] yyy\", 1: \"bbb [dog] zzz\"}]<br><br>for dct in original:<br>    for key in dct:<br>        dct[key] = find_between(dct[key], \"[\", \"]\")<br></td>\n",
              "      <td>67878</td>\n",
              "      <td>1</td>\n",
              "    </tr>\n",
              "    <tr>\n",
              "      <th>3</th>\n",
              "      <td># Reading and writing a tuple to file (numpy.random.RandomState.get_state)<br><br>import numpy<br>import pickle<br><br>randomStateFile = 'random.bin'<br><br>def save_random_state():<br>    with open(randomStateFile, 'wb') as f:<br>        pickle.dump(numpy.random.RandomState.get_state(), f)<br><br>def load_random_state():<br>    with open(randomStateFile, 'rb') as f:<br>        numpy.random.RandomState.set_state(pickle.load(f))<br></td>\n",
              "      <td>21322</td>\n",
              "      <td>0</td>\n",
              "    </tr>\n",
              "    <tr>\n",
              "      <th>4</th>\n",
              "      <td># filtering a pytables table on pandas import<br><br>elif event.type == MOUSEBUTTONUP and event.button == 1 and isinstance(page, MainPage):<br>        x, y = pygame.mouse.get_pos()<br><br>        control = originalScroll_y - scroll_y<br>        control2 = 0 # set to 0 here<br>        if control != control2: # is 0 here<br></td>\n",
              "      <td>19709</td>\n",
              "      <td>0</td>\n",
              "    </tr>\n",
              "    <tr>\n",
              "      <th>5</th>\n",
              "      <td># Extract Options From Dropdown List Extracted From Website<br><br>gnames1 = list(A.objects.values_list('gname',flat=True).distinct())<br>gnames2 = list(B.objects.values_list('gname',flat=True).distinct())<br><br>gnames = list(set(gnames1+gnames2))<br>render(request, 'sampletemplate.html', {'gnames':gnames})<br></td>\n",
              "      <td>19752</td>\n",
              "      <td>0</td>\n",
              "    </tr>\n",
              "    <tr>\n",
              "      <th>6</th>\n",
              "      <td># Slicing a Pandas Dataframe Using Two Strings<br><br># data<br># ==================================<br>df<br><br>   Region MachineNumber<br>0      EU      Machine1<br>1      EU      Machine1<br>2      EU      Machine1<br>3      EU      Machine1<br>4      EU      Machine1<br>5      EU      Machine1<br>6      EU      Machine1<br>7      EU      Machine1<br>..    ...           ...<br>17     NA      Machine1<br>18     NA      Machine1<br>19     NA      Machine1<br>20     NA      Machine1<br>21     NA      Machine1<br>22     NA      Machine1<br>23     NA      Machine1<br>24     NA      Machine1<br><br>[25 rows x 2 columns]<br><br># processing<br># ===============================<br>df[(df['Region']=='NA') &amp; (df['MachineNumber']=='Machine1')]<br><br>   Region MachineNumber<br>16     NA      Machine1<br>17     NA      Machine1<br>18     NA      Machine1<br>19     NA      Machine1<br>20     NA      Machine1<br>21     NA      Machine1<br>22     NA      Machine1<br>23     NA      Machine1<br>24     NA      Machine1<br></td>\n",
              "      <td>44756</td>\n",
              "      <td>1</td>\n",
              "    </tr>\n",
              "    <tr>\n",
              "      <th>7</th>\n",
              "      <td># Permalinks with Russian/Cyrillic news articles<br><br>py&gt; urllib.quote(u\"articles/2009/Заглавная_страница\".encode(\"utf-8\"))<br>'articles/2009/%D0%97%D0%B0%D0%B3%D0%BB%D0%B0%D0%B2%D0%BD%D0%B0%D1%8F_%D1%81%D1%82%D1%80%D0%B0%D0%BD%D0%B8%D1%86%D0%B0'<br></td>\n",
              "      <td>16437</td>\n",
              "      <td>1</td>\n",
              "    </tr>\n",
              "    <tr>\n",
              "      <th>8</th>\n",
              "      <td># Overwrite create method of res.users to add users upon creation to a group<br><br>@api.model<br>def create(self, vals):<br>    f = super(ResUsers, self).create(vals)<br>    f.add_to_group()<br>    return f</td>\n",
              "      <td>21322</td>\n",
              "      <td>0</td>\n",
              "    </tr>\n",
              "    <tr>\n",
              "      <th>9</th>\n",
              "      <td># In python - Find the maximum date in a nested dictionary<br><br>max(my_dict.items(), key=lambda x: x[1]['last_event'])[0]<br></td>\n",
              "      <td>46573</td>\n",
              "      <td>1</td>\n",
              "    </tr>\n",
              "  </tbody>\n",
              "</table>"
            ],
            "text/plain": [
              "<IPython.core.display.HTML object>"
            ]
          },
          "metadata": {},
          "output_type": "display_data"
        }
      ],
      "source": [
        "show_random_elements(train_test_valid_dataset[\"train\"])"
      ]
    },
    {
      "cell_type": "markdown",
      "metadata": {
        "id": "UIR7bD4t49Yh"
      },
      "source": [
        "### Load Tokenizer"
      ]
    },
    {
      "cell_type": "code",
      "execution_count": null,
      "metadata": {
        "id": "A96laWQZq4ki"
      },
      "outputs": [],
      "source": [
        "model_checkpoint = \"distilbert-base-uncased\""
      ]
    },
    {
      "cell_type": "code",
      "execution_count": null,
      "metadata": {
        "id": "eoMIo2RI4548"
      },
      "outputs": [],
      "source": [
        "from transformers import AutoTokenizer\n",
        "tokenizer = AutoTokenizer.from_pretrained(model_checkpoint, use_fast=True)"
      ]
    },
    {
      "cell_type": "code",
      "execution_count": null,
      "metadata": {
        "colab": {
          "base_uri": "https://localhost:8080/"
        },
        "id": "7qOLfuk6wGZ_",
        "outputId": "819356dc-e685-4b84-bf9c-c3d9fbc1cb7f"
      },
      "outputs": [
        {
          "data": {
            "text/plain": [
              "{'input_ids': [101, 6140, 1006, 1005, 7592, 2088, 1005, 1007, 102, 12324, 25462, 2015, 2004, 22851, 102], 'attention_mask': [1, 1, 1, 1, 1, 1, 1, 1, 1, 1, 1, 1, 1, 1, 1]}"
            ]
          },
          "execution_count": 23,
          "metadata": {},
          "output_type": "execute_result"
        }
      ],
      "source": [
        "tokenizer(\"print('Hello World')\", \"import pandas as pd\")"
      ]
    },
    {
      "cell_type": "code",
      "execution_count": null,
      "metadata": {
        "id": "s-FGzvbLwc6M"
      },
      "outputs": [],
      "source": [
        "def preprocess_function(examples):\n",
        "    return tokenizer(examples[\"question_code_snippet_pair\"], truncation=True)"
      ]
    },
    {
      "cell_type": "code",
      "execution_count": null,
      "metadata": {
        "colab": {
          "base_uri": "https://localhost:8080/"
        },
        "id": "Q7hb-dwVwiqb",
        "outputId": "d12a0445-d985-423d-a0cc-af4f722b977b"
      },
      "outputs": [
        {
          "data": {
            "text/plain": [
              "{'input_ids': [[101, 1001, 18750, 3752, 1998, 3015, 2000, 23746, 2100, 2465, 9425, 1024, 13366, 1035, 1035, 1999, 4183, 1035, 1035, 1006, 2969, 1010, 23746, 2100, 1035, 2171, 1007, 1024, 2969, 1012, 14262, 1027, 7642, 1012, 7642, 1006, 1007, 2969, 1012, 14262, 1012, 3417, 1027, 23746, 2100, 1035, 2171, 1001, 2065, 2009, 7807, 3046, 1996, 2917, 1001, 2969, 1012, 14262, 8663, 2546, 1006, 1007, 1001, 4895, 9006, 3672, 3210, 2182, 6229, 2009, 2573, 2969, 1012, 14262, 1012, 2330, 1006, 1007, 2969, 1012, 14262, 1012, 13862, 2378, 18780, 1006, 1007, 2969, 1012, 14262, 1012, 13862, 5833, 18780, 1006, 1007, 2969, 1012, 5587, 2099, 1027, 3904, 2969, 1012, 2275, 4215, 16200, 4757, 1006, 1014, 1007, 13366, 4642, 2094, 1006, 2969, 1010, 4642, 2094, 1035, 2358, 2099, 1007, 1024, 2969, 1012, 14262, 1012, 4339, 1006, 4642, 2094, 1035, 2358, 2099, 1009, 1000, 1032, 1050, 1000, 1007, 3637, 1006, 1014, 1012, 1019, 1007, 2709, 2969, 1012, 14262, 1012, 3191, 4179, 1006, 1007, 13366, 14262, 8663, 2546, 1006, 2969, 1007, 1024, 2969, 1012, 14262, 1012, 8670, 6784, 11657, 1027, 26637, 2692, 2969, 1012, 14262, 1012, 27507, 4697, 1027, 7642, 1012, 2809, 16313, 2015, 2969, 1012, 14262, 1012, 11968, 3012, 1027, 7642, 1012, 11968, 3012, 1035, 3904, 2969, 1012, 14262, 1012, 2644, 16313, 2015, 1027, 7642, 1012, 2644, 16313, 2015, 1035, 2028, 2969, 1012, 14262, 1012, 2051, 5833, 1027, 1014, 1001, 2512, 1011, 3796, 3752, 2969, 1012, 14262, 1012, 1060, 2239, 2595, 7245, 1027, 6270, 1001, 4487, 19150, 4007, 4834, 2491, 2969, 1012, 14262, 1012, 19387, 11020, 3215, 1027, 6270, 1001, 4487, 19150, 1006, 19387, 2015, 1013, 14931, 2015, 1007, 4834, 2491, 2969, 1012, 14262, 1012, 16233, 4103, 16344, 1027, 6270, 1001, 4487, 19150, 1006, 16233, 2099, 1013, 26718, 2099, 1007, 4834, 2491, 2969, 1012, 14262, 1012, 4339, 7292, 5833, 1027, 1016, 13366, 2485, 1006, 2969, 1007, 1024, 2969, 1012, 14262, 1012, 2485, 1006, 1007, 102], [101, 1001, 12256, 3995, 13159, 3170, 23032, 2275, 2000, 2862, 7584, 29379, 10755, 1012, 5200, 1012, 2035, 1006, 1007, 1012, 5300, 1035, 2862, 1006, 1005, 8909, 1005, 1007, 102], [101, 1001, 2129, 2000, 5436, 1037, 5744, 14134, 3609, 5436, 2005, 1062, 1027, 1042, 1006, 1060, 1010, 1061, 1007, 1999, 1031, 1017, 1033, 1024, 1060, 1027, 1061, 1027, 27937, 1012, 11409, 23058, 1006, 1011, 1015, 1010, 1015, 1010, 2538, 1007, 1999, 1031, 1018, 1033, 1024, 1062, 1027, 27937, 1012, 9140, 1006, 1031, 1045, 1008, 1045, 1009, 1046, 1008, 1046, 2005, 1046, 1999, 1061, 2005, 1045, 1999, 1060, 1033, 1007, 1999, 1031, 1019, 1033, 1024, 1062, 1027, 1062, 1012, 24501, 3270, 5051, 1006, 2538, 1010, 2538, 1007, 1999, 1031, 1021, 1033, 1024, 20228, 2102, 1012, 10047, 22231, 2860, 1006, 1062, 1010, 6970, 18155, 3370, 1027, 1005, 12170, 4179, 2906, 1005, 1007, 2041, 1031, 1021, 1033, 1024, 1026, 13523, 24759, 4140, 29521, 1012, 3746, 1012, 19589, 9581, 3351, 2012, 1014, 2595, 2581, 2546, 18139, 21084, 22907, 2581, 26187, 2692, 1028, 1999, 1031, 1022, 1033, 1024, 20228, 2102, 1012, 2265, 1006, 1007, 102], [101, 1001, 5587, 9206, 2000, 1037, 2862, 18750, 12324, 20116, 2615, 2951, 1027, 1031, 1033, 2007, 2330, 1006, 2951, 8873, 2571, 1010, 1005, 1054, 1005, 1007, 2004, 20116, 2615, 8873, 2571, 1024, 8068, 1027, 20116, 2615, 1012, 4487, 6593, 16416, 4063, 1006, 20116, 2615, 8873, 2571, 1007, 2005, 5216, 1999, 8068, 1024, 2951, 1012, 10439, 10497, 1006, 5216, 1007, 6140, 1006, 5216, 1031, 1005, 2516, 1005, 1033, 1010, 5216, 1031, 1005, 2171, 1005, 1033, 1007, 102], [101, 1001, 16500, 16371, 8737, 2100, 1015, 1012, 1022, 1999, 10001, 25022, 2653, 1024, 18750, 2077, 1035, 5896, 1024, 1011, 1059, 18150, 8299, 1024, 1013, 1013, 16360, 2080, 1012, 22961, 1012, 22834, 1013, 7163, 8663, 2850, 1013, 7163, 8663, 2850, 1011, 1017, 1012, 1022, 1012, 1017, 1011, 11603, 1011, 1060, 20842, 1035, 4185, 1012, 14021, 1011, 1051, 7163, 8663, 2850, 1012, 14021, 1011, 10381, 5302, 2094, 1009, 1060, 7163, 8663, 2850, 1012, 14021, 1011, 9167, 4130, 1027, 1013, 2188, 1013, 10001, 1013, 7163, 8663, 2850, 1013, 8026, 1024, 1002, 4130, 1011, 9530, 2850, 16500, 1011, 1011, 2748, 16371, 8737, 2100, 1027, 1015, 1012, 1022, 102]], 'attention_mask': [[1, 1, 1, 1, 1, 1, 1, 1, 1, 1, 1, 1, 1, 1, 1, 1, 1, 1, 1, 1, 1, 1, 1, 1, 1, 1, 1, 1, 1, 1, 1, 1, 1, 1, 1, 1, 1, 1, 1, 1, 1, 1, 1, 1, 1, 1, 1, 1, 1, 1, 1, 1, 1, 1, 1, 1, 1, 1, 1, 1, 1, 1, 1, 1, 1, 1, 1, 1, 1, 1, 1, 1, 1, 1, 1, 1, 1, 1, 1, 1, 1, 1, 1, 1, 1, 1, 1, 1, 1, 1, 1, 1, 1, 1, 1, 1, 1, 1, 1, 1, 1, 1, 1, 1, 1, 1, 1, 1, 1, 1, 1, 1, 1, 1, 1, 1, 1, 1, 1, 1, 1, 1, 1, 1, 1, 1, 1, 1, 1, 1, 1, 1, 1, 1, 1, 1, 1, 1, 1, 1, 1, 1, 1, 1, 1, 1, 1, 1, 1, 1, 1, 1, 1, 1, 1, 1, 1, 1, 1, 1, 1, 1, 1, 1, 1, 1, 1, 1, 1, 1, 1, 1, 1, 1, 1, 1, 1, 1, 1, 1, 1, 1, 1, 1, 1, 1, 1, 1, 1, 1, 1, 1, 1, 1, 1, 1, 1, 1, 1, 1, 1, 1, 1, 1, 1, 1, 1, 1, 1, 1, 1, 1, 1, 1, 1, 1, 1, 1, 1, 1, 1, 1, 1, 1, 1, 1, 1, 1, 1, 1, 1, 1, 1, 1, 1, 1, 1, 1, 1, 1, 1, 1, 1, 1, 1, 1, 1, 1, 1, 1, 1, 1, 1, 1, 1, 1, 1, 1, 1, 1, 1, 1, 1, 1, 1, 1, 1, 1, 1, 1, 1, 1, 1, 1, 1, 1, 1, 1, 1, 1, 1, 1, 1, 1, 1, 1, 1, 1, 1, 1, 1, 1, 1, 1, 1, 1, 1, 1, 1, 1, 1, 1, 1, 1, 1, 1, 1, 1], [1, 1, 1, 1, 1, 1, 1, 1, 1, 1, 1, 1, 1, 1, 1, 1, 1, 1, 1, 1, 1, 1, 1, 1, 1, 1, 1, 1, 1], [1, 1, 1, 1, 1, 1, 1, 1, 1, 1, 1, 1, 1, 1, 1, 1, 1, 1, 1, 1, 1, 1, 1, 1, 1, 1, 1, 1, 1, 1, 1, 1, 1, 1, 1, 1, 1, 1, 1, 1, 1, 1, 1, 1, 1, 1, 1, 1, 1, 1, 1, 1, 1, 1, 1, 1, 1, 1, 1, 1, 1, 1, 1, 1, 1, 1, 1, 1, 1, 1, 1, 1, 1, 1, 1, 1, 1, 1, 1, 1, 1, 1, 1, 1, 1, 1, 1, 1, 1, 1, 1, 1, 1, 1, 1, 1, 1, 1, 1, 1, 1, 1, 1, 1, 1, 1, 1, 1, 1, 1, 1, 1, 1, 1, 1, 1, 1, 1, 1, 1, 1, 1, 1, 1, 1, 1, 1, 1, 1, 1, 1, 1, 1, 1, 1, 1, 1, 1, 1, 1, 1, 1, 1, 1, 1, 1, 1, 1, 1, 1], [1, 1, 1, 1, 1, 1, 1, 1, 1, 1, 1, 1, 1, 1, 1, 1, 1, 1, 1, 1, 1, 1, 1, 1, 1, 1, 1, 1, 1, 1, 1, 1, 1, 1, 1, 1, 1, 1, 1, 1, 1, 1, 1, 1, 1, 1, 1, 1, 1, 1, 1, 1, 1, 1, 1, 1, 1, 1, 1, 1, 1, 1, 1, 1, 1, 1, 1, 1, 1, 1, 1, 1, 1, 1, 1, 1], [1, 1, 1, 1, 1, 1, 1, 1, 1, 1, 1, 1, 1, 1, 1, 1, 1, 1, 1, 1, 1, 1, 1, 1, 1, 1, 1, 1, 1, 1, 1, 1, 1, 1, 1, 1, 1, 1, 1, 1, 1, 1, 1, 1, 1, 1, 1, 1, 1, 1, 1, 1, 1, 1, 1, 1, 1, 1, 1, 1, 1, 1, 1, 1, 1, 1, 1, 1, 1, 1, 1, 1, 1, 1, 1, 1, 1, 1, 1, 1, 1, 1, 1, 1, 1, 1, 1, 1, 1, 1, 1, 1, 1, 1, 1, 1, 1, 1, 1, 1, 1, 1, 1, 1, 1]]}"
            ]
          },
          "execution_count": 25,
          "metadata": {},
          "output_type": "execute_result"
        }
      ],
      "source": [
        "preprocess_function(train_test_valid_dataset['train'][:5])"
      ]
    },
    {
      "cell_type": "code",
      "execution_count": null,
      "metadata": {
        "colab": {
          "base_uri": "https://localhost:8080/",
          "height": 113,
          "referenced_widgets": [
            "7d32aa3a7f1140e4a321bd97167cf75b",
            "ec673e5084cc40e994535eba5c5e1147",
            "58324ea8562c4df79377a1173b0ea8aa",
            "44393ac4c3f4436090ecc31aa3e2130d",
            "76551453a22c43e886f541c0aa3e555e",
            "e61d01c4d3f3433783d5365e2718d137",
            "f072016e0dc64d498c513628f8568c7e",
            "18b0c2dc838a42758be66a71d5bfbff5",
            "642d816231c04e55b3523c7ae1106751",
            "f4dfac1ed58a48c391192ef087094189",
            "6801aaa895cb4d168cef77e0d9d2f097",
            "baad54c6d8a5478893ed6affc3cf9bc8",
            "ef309e9a9011424ab92c6f450d1dccda",
            "c7922ca576f24af0b5353b62838e74cf",
            "792679599ce44feebda8497d92d34acf",
            "8b2adc5a1b144f8e8a294a6a0b265ba7",
            "4804baa379fd4539ac2289ddabbf84a2",
            "ec518c60cbfa46248aa9a92803318c27",
            "092070613d954854a9181214077da1bb",
            "7c75327431084004bacb866db10b1e2c",
            "91dc20c5409f470a96a8cd604b0a7b67",
            "a3db3b75164947369d261b3200854517",
            "3dacee9080de4e6886c68f9ba93ea3ba",
            "1f951138dcbb4958b9bd1459eb1a19f3",
            "713852934bca4356b4f8807ae61b16a5",
            "8f64739679c24f718427866f35289e6c",
            "b8f48f05733c4b48ba86644c92d7fe16",
            "3bc2ef82870744569d66abc5a52dd894",
            "a49c3cafb2624e65b514802c74ebbcf9",
            "576c3c38b4c34915b3d10a6baaa9119c",
            "66ec9ee53c774a178916a985e256e33d",
            "c98348257d8f40fb939b52fa278ff488",
            "d385f4969310445a99629d82fdca3f9b"
          ]
        },
        "id": "zwp6tpTh5FGC",
        "outputId": "530fc35a-02ea-4c80-d58a-794d31146213"
      },
      "outputs": [
        {
          "data": {
            "application/vnd.jupyter.widget-view+json": {
              "model_id": "7d32aa3a7f1140e4a321bd97167cf75b",
              "version_major": 2,
              "version_minor": 0
            },
            "text/plain": [
              "  0%|          | 0/122 [00:00<?, ?ba/s]"
            ]
          },
          "metadata": {},
          "output_type": "display_data"
        },
        {
          "data": {
            "application/vnd.jupyter.widget-view+json": {
              "model_id": "baad54c6d8a5478893ed6affc3cf9bc8",
              "version_major": 2,
              "version_minor": 0
            },
            "text/plain": [
              "  0%|          | 0/7 [00:00<?, ?ba/s]"
            ]
          },
          "metadata": {},
          "output_type": "display_data"
        },
        {
          "data": {
            "application/vnd.jupyter.widget-view+json": {
              "model_id": "3dacee9080de4e6886c68f9ba93ea3ba",
              "version_major": 2,
              "version_minor": 0
            },
            "text/plain": [
              "  0%|          | 0/7 [00:00<?, ?ba/s]"
            ]
          },
          "metadata": {},
          "output_type": "display_data"
        }
      ],
      "source": [
        "# Tokenize complete dataset\n",
        "encoded_dataset = train_test_valid_dataset.map(preprocess_function, batched=True)"
      ]
    },
    {
      "cell_type": "markdown",
      "metadata": {
        "id": "qva2Lh_KNWdG"
      },
      "source": [
        "## Fine-tune model\n",
        "\n",
        "Fine-tune a BERT model on that dataset we just prepared based on this tutorial: https://huggingface.co/docs/transformers/training"
      ]
    },
    {
      "cell_type": "code",
      "execution_count": null,
      "metadata": {
        "colab": {
          "base_uri": "https://localhost:8080/"
        },
        "id": "W9ZQJ6DLOHsy",
        "outputId": "ac747985-b045-4c7b-f07d-b04ca7d887d2"
      },
      "outputs": [
        {
          "name": "stderr",
          "output_type": "stream",
          "text": [
            "Some weights of the model checkpoint at distilbert-base-uncased were not used when initializing DistilBertForSequenceClassification: ['vocab_transform.bias', 'vocab_layer_norm.weight', 'vocab_projector.bias', 'vocab_projector.weight', 'vocab_layer_norm.bias', 'vocab_transform.weight']\n",
            "- This IS expected if you are initializing DistilBertForSequenceClassification from the checkpoint of a model trained on another task or with another architecture (e.g. initializing a BertForSequenceClassification model from a BertForPreTraining model).\n",
            "- This IS NOT expected if you are initializing DistilBertForSequenceClassification from the checkpoint of a model that you expect to be exactly identical (initializing a BertForSequenceClassification model from a BertForSequenceClassification model).\n",
            "Some weights of DistilBertForSequenceClassification were not initialized from the model checkpoint at distilbert-base-uncased and are newly initialized: ['pre_classifier.weight', 'classifier.weight', 'classifier.bias', 'pre_classifier.bias']\n",
            "You should probably TRAIN this model on a down-stream task to be able to use it for predictions and inference.\n"
          ]
        }
      ],
      "source": [
        "# Load pre-trained BERT model\n",
        "from transformers import AutoModelForSequenceClassification\n",
        "\n",
        "model = AutoModelForSequenceClassification.from_pretrained(model_checkpoint, num_labels=2)"
      ]
    },
    {
      "cell_type": "code",
      "execution_count": null,
      "metadata": {
        "id": "wYT12LSbOQNo"
      },
      "outputs": [],
      "source": [
        "# Set hyperparameters\n",
        "from transformers import TrainingArguments\n",
        "model_name = model_checkpoint.split(\"/\")[-1]\n",
        "batch_size = 16\n",
        "\n",
        "args = TrainingArguments(\n",
        "    f\"{model_name}-finetuned-code-snippet-quality-scoring\",\n",
        "    evaluation_strategy = \"steps\",\n",
        "    save_strategy = \"epoch\",\n",
        "    eval_steps=1000,\n",
        "    learning_rate=2e-5,\n",
        "    per_device_train_batch_size=batch_size,\n",
        "    per_device_eval_batch_size=batch_size,\n",
        "    num_train_epochs=4,\n",
        "    weight_decay=0.01,\n",
        "    load_best_model_at_end=False,\n",
        "    metric_for_best_model=\"accuracy\",\n",
        "    push_to_hub=True,\n",
        "    report_to=\"wandb\",\n",
        "    run_name=\"003\"\n",
        ")"
      ]
    },
    {
      "cell_type": "code",
      "execution_count": null,
      "metadata": {
        "id": "AA8rSD8KTkH1"
      },
      "outputs": [],
      "source": [
        "# Load metric for evaluate model performance during training.\n",
        "import numpy as np\n",
        "from datasets import load_metric\n",
        "\n",
        "metric = load_metric(\"accuracy\")"
      ]
    },
    {
      "cell_type": "code",
      "execution_count": null,
      "metadata": {
        "id": "vstpW-NwTtNU"
      },
      "outputs": [],
      "source": [
        "def compute_metrics(eval_pred):\n",
        "    logits, labels = eval_pred\n",
        "    predictions = np.argmax(logits, axis=-1)\n",
        "    return metric.compute(predictions=predictions, references=labels)"
      ]
    },
    {
      "cell_type": "code",
      "execution_count": null,
      "metadata": {
        "colab": {
          "base_uri": "https://localhost:8080/"
        },
        "id": "c9253NLgkCsp",
        "outputId": "4be8b461-3133-43fa-e3c9-84c220d92198"
      },
      "outputs": [
        {
          "name": "stderr",
          "output_type": "stream",
          "text": [
            "/content/distilbert-base-uncased-finetuned-code-snippet-quality-scoring is already a clone of https://huggingface.co/Johannes/distilbert-base-uncased-finetuned-code-snippet-quality-scoring. Make sure you pull the latest changes with `repo.git_pull()`.\n",
            "WARNING:huggingface_hub.repository:/content/distilbert-base-uncased-finetuned-code-snippet-quality-scoring is already a clone of https://huggingface.co/Johannes/distilbert-base-uncased-finetuned-code-snippet-quality-scoring. Make sure you pull the latest changes with `repo.git_pull()`.\n"
          ]
        }
      ],
      "source": [
        "from transformers import Trainer\n",
        "\n",
        "trainer = Trainer(\n",
        "    model,\n",
        "    args,\n",
        "    train_dataset=encoded_dataset[\"train\"],\n",
        "    eval_dataset=encoded_dataset[\"valid\"],\n",
        "    tokenizer=tokenizer,\n",
        "    compute_metrics=compute_metrics\n",
        ")"
      ]
    },
    {
      "cell_type": "code",
      "execution_count": null,
      "metadata": {
        "colab": {
          "background_save": true,
          "base_uri": "https://localhost:8080/",
          "height": 1000
        },
        "id": "jW-_OCpTkIl3",
        "outputId": "9984783d-733c-4476-fa2b-85a804306c20"
      },
      "outputs": [
        {
          "name": "stderr",
          "output_type": "stream",
          "text": [
            "The following columns in the training set don't have a corresponding argument in `DistilBertForSequenceClassification.forward` and have been ignored: question_code_snippet_pair, idx. If question_code_snippet_pair, idx are not expected by `DistilBertForSequenceClassification.forward`,  you can safely ignore this message.\n",
            "/usr/local/lib/python3.7/dist-packages/transformers/optimization.py:310: FutureWarning: This implementation of AdamW is deprecated and will be removed in a future version. Use the PyTorch implementation torch.optim.AdamW instead, or set `no_deprecation_warning=True` to disable this warning\n",
            "  FutureWarning,\n",
            "***** Running training *****\n",
            "  Num examples = 121916\n",
            "  Num Epochs = 4\n",
            "  Instantaneous batch size per device = 16\n",
            "  Total train batch size (w. parallel, distributed & accumulation) = 16\n",
            "  Gradient Accumulation steps = 1\n",
            "  Total optimization steps = 30480\n",
            "Automatic Weights & Biases logging enabled, to disable set os.environ[\"WANDB_DISABLED\"] = \"true\"\n"
          ]
        },
        {
          "data": {
            "text/html": [
              "Tracking run with wandb version 0.13.2"
            ],
            "text/plain": [
              "<IPython.core.display.HTML object>"
            ]
          },
          "metadata": {},
          "output_type": "display_data"
        },
        {
          "data": {
            "text/html": [
              "Run data is saved locally in <code>/content/wandb/run-20220824_192435-1eukkf2e</code>"
            ],
            "text/plain": [
              "<IPython.core.display.HTML object>"
            ]
          },
          "metadata": {},
          "output_type": "display_data"
        },
        {
          "data": {
            "text/html": [
              "Syncing run <strong><a href=\"https://wandb.ai/mrubis/huggingface/runs/1eukkf2e\" target=\"_blank\">003</a></strong> to <a href=\"https://wandb.ai/mrubis/huggingface\" target=\"_blank\">Weights & Biases</a> (<a href=\"https://wandb.me/run\" target=\"_blank\">docs</a>)<br/>"
            ],
            "text/plain": [
              "<IPython.core.display.HTML object>"
            ]
          },
          "metadata": {},
          "output_type": "display_data"
        },
        {
          "data": {
            "text/html": [
              "\n",
              "    <div>\n",
              "      \n",
              "      <progress value='30480' max='30480' style='width:300px; height:20px; vertical-align: middle;'></progress>\n",
              "      [30480/30480 6:22:57, Epoch 4/4]\n",
              "    </div>\n",
              "    <table border=\"1\" class=\"dataframe\">\n",
              "  <thead>\n",
              " <tr style=\"text-align: left;\">\n",
              "      <th>Step</th>\n",
              "      <th>Training Loss</th>\n",
              "      <th>Validation Loss</th>\n",
              "      <th>Accuracy</th>\n",
              "    </tr>\n",
              "  </thead>\n",
              "  <tbody>\n",
              "    <tr>\n",
              "      <td>1000</td>\n",
              "      <td>0.535300</td>\n",
              "      <td>0.511034</td>\n",
              "      <td>0.757419</td>\n",
              "    </tr>\n",
              "    <tr>\n",
              "      <td>2000</td>\n",
              "      <td>0.468600</td>\n",
              "      <td>0.433912</td>\n",
              "      <td>0.785915</td>\n",
              "    </tr>\n",
              "    <tr>\n",
              "      <td>3000</td>\n",
              "      <td>0.451700</td>\n",
              "      <td>0.424023</td>\n",
              "      <td>0.800236</td>\n",
              "    </tr>\n",
              "    <tr>\n",
              "      <td>4000</td>\n",
              "      <td>0.426300</td>\n",
              "      <td>0.390631</td>\n",
              "      <td>0.816920</td>\n",
              "    </tr>\n",
              "    <tr>\n",
              "      <td>5000</td>\n",
              "      <td>0.405300</td>\n",
              "      <td>0.393399</td>\n",
              "      <td>0.819135</td>\n",
              "    </tr>\n",
              "    <tr>\n",
              "      <td>6000</td>\n",
              "      <td>0.386700</td>\n",
              "      <td>0.385884</td>\n",
              "      <td>0.825336</td>\n",
              "    </tr>\n",
              "    <tr>\n",
              "      <td>7000</td>\n",
              "      <td>0.390600</td>\n",
              "      <td>0.393579</td>\n",
              "      <td>0.833456</td>\n",
              "    </tr>\n",
              "    <tr>\n",
              "      <td>8000</td>\n",
              "      <td>0.341800</td>\n",
              "      <td>0.361515</td>\n",
              "      <td>0.838033</td>\n",
              "    </tr>\n",
              "    <tr>\n",
              "      <td>9000</td>\n",
              "      <td>0.341800</td>\n",
              "      <td>0.358502</td>\n",
              "      <td>0.839953</td>\n",
              "    </tr>\n",
              "    <tr>\n",
              "      <td>10000</td>\n",
              "      <td>0.330700</td>\n",
              "      <td>0.352031</td>\n",
              "      <td>0.843201</td>\n",
              "    </tr>\n",
              "    <tr>\n",
              "      <td>11000</td>\n",
              "      <td>0.330100</td>\n",
              "      <td>0.347565</td>\n",
              "      <td>0.847483</td>\n",
              "    </tr>\n",
              "    <tr>\n",
              "      <td>12000</td>\n",
              "      <td>0.327500</td>\n",
              "      <td>0.351064</td>\n",
              "      <td>0.849697</td>\n",
              "    </tr>\n",
              "    <tr>\n",
              "      <td>13000</td>\n",
              "      <td>0.319200</td>\n",
              "      <td>0.351904</td>\n",
              "      <td>0.853979</td>\n",
              "    </tr>\n",
              "    <tr>\n",
              "      <td>14000</td>\n",
              "      <td>0.321800</td>\n",
              "      <td>0.340151</td>\n",
              "      <td>0.849550</td>\n",
              "    </tr>\n",
              "    <tr>\n",
              "      <td>15000</td>\n",
              "      <td>0.319900</td>\n",
              "      <td>0.337506</td>\n",
              "      <td>0.857965</td>\n",
              "    </tr>\n",
              "    <tr>\n",
              "      <td>16000</td>\n",
              "      <td>0.259100</td>\n",
              "      <td>0.368714</td>\n",
              "      <td>0.856784</td>\n",
              "    </tr>\n",
              "    <tr>\n",
              "      <td>17000</td>\n",
              "      <td>0.273200</td>\n",
              "      <td>0.361903</td>\n",
              "      <td>0.852060</td>\n",
              "    </tr>\n",
              "    <tr>\n",
              "      <td>18000</td>\n",
              "      <td>0.268100</td>\n",
              "      <td>0.357442</td>\n",
              "      <td>0.856341</td>\n",
              "    </tr>\n",
              "    <tr>\n",
              "      <td>19000</td>\n",
              "      <td>0.260600</td>\n",
              "      <td>0.340379</td>\n",
              "      <td>0.858113</td>\n",
              "    </tr>\n",
              "    <tr>\n",
              "      <td>20000</td>\n",
              "      <td>0.266200</td>\n",
              "      <td>0.370805</td>\n",
              "      <td>0.856637</td>\n",
              "    </tr>\n",
              "    <tr>\n",
              "      <td>21000</td>\n",
              "      <td>0.268500</td>\n",
              "      <td>0.374337</td>\n",
              "      <td>0.859147</td>\n",
              "    </tr>\n",
              "    <tr>\n",
              "      <td>22000</td>\n",
              "      <td>0.246000</td>\n",
              "      <td>0.378632</td>\n",
              "      <td>0.853093</td>\n",
              "    </tr>\n",
              "    <tr>\n",
              "      <td>23000</td>\n",
              "      <td>0.258000</td>\n",
              "      <td>0.378127</td>\n",
              "      <td>0.857818</td>\n",
              "    </tr>\n",
              "    <tr>\n",
              "      <td>24000</td>\n",
              "      <td>0.228400</td>\n",
              "      <td>0.393844</td>\n",
              "      <td>0.858261</td>\n",
              "    </tr>\n",
              "    <tr>\n",
              "      <td>25000</td>\n",
              "      <td>0.220600</td>\n",
              "      <td>0.412142</td>\n",
              "      <td>0.858261</td>\n",
              "    </tr>\n",
              "    <tr>\n",
              "      <td>26000</td>\n",
              "      <td>0.213100</td>\n",
              "      <td>0.409080</td>\n",
              "      <td>0.857523</td>\n",
              "    </tr>\n",
              "    <tr>\n",
              "      <td>27000</td>\n",
              "      <td>0.218100</td>\n",
              "      <td>0.426386</td>\n",
              "      <td>0.853536</td>\n",
              "    </tr>\n",
              "    <tr>\n",
              "      <td>28000</td>\n",
              "      <td>0.228900</td>\n",
              "      <td>0.399780</td>\n",
              "      <td>0.856784</td>\n",
              "    </tr>\n",
              "    <tr>\n",
              "      <td>29000</td>\n",
              "      <td>0.226200</td>\n",
              "      <td>0.398315</td>\n",
              "      <td>0.857965</td>\n",
              "    </tr>\n",
              "    <tr>\n",
              "      <td>30000</td>\n",
              "      <td>0.209500</td>\n",
              "      <td>0.407029</td>\n",
              "      <td>0.856784</td>\n",
              "    </tr>\n",
              "  </tbody>\n",
              "</table><p>"
            ],
            "text/plain": [
              "<IPython.core.display.HTML object>"
            ]
          },
          "metadata": {},
          "output_type": "display_data"
        },
        {
          "name": "stderr",
          "output_type": "stream",
          "text": [
            "The following columns in the evaluation set don't have a corresponding argument in `DistilBertForSequenceClassification.forward` and have been ignored: question_code_snippet_pair, idx. If question_code_snippet_pair, idx are not expected by `DistilBertForSequenceClassification.forward`,  you can safely ignore this message.\n",
            "***** Running Evaluation *****\n",
            "  Num examples = 6773\n",
            "  Batch size = 16\n",
            "The following columns in the evaluation set don't have a corresponding argument in `DistilBertForSequenceClassification.forward` and have been ignored: question_code_snippet_pair, idx. If question_code_snippet_pair, idx are not expected by `DistilBertForSequenceClassification.forward`,  you can safely ignore this message.\n",
            "***** Running Evaluation *****\n",
            "  Num examples = 6773\n",
            "  Batch size = 16\n",
            "The following columns in the evaluation set don't have a corresponding argument in `DistilBertForSequenceClassification.forward` and have been ignored: question_code_snippet_pair, idx. If question_code_snippet_pair, idx are not expected by `DistilBertForSequenceClassification.forward`,  you can safely ignore this message.\n",
            "***** Running Evaluation *****\n",
            "  Num examples = 6773\n",
            "  Batch size = 16\n",
            "The following columns in the evaluation set don't have a corresponding argument in `DistilBertForSequenceClassification.forward` and have been ignored: question_code_snippet_pair, idx. If question_code_snippet_pair, idx are not expected by `DistilBertForSequenceClassification.forward`,  you can safely ignore this message.\n",
            "***** Running Evaluation *****\n",
            "  Num examples = 6773\n",
            "  Batch size = 16\n",
            "The following columns in the evaluation set don't have a corresponding argument in `DistilBertForSequenceClassification.forward` and have been ignored: question_code_snippet_pair, idx. If question_code_snippet_pair, idx are not expected by `DistilBertForSequenceClassification.forward`,  you can safely ignore this message.\n",
            "***** Running Evaluation *****\n",
            "  Num examples = 6773\n",
            "  Batch size = 16\n",
            "The following columns in the evaluation set don't have a corresponding argument in `DistilBertForSequenceClassification.forward` and have been ignored: question_code_snippet_pair, idx. If question_code_snippet_pair, idx are not expected by `DistilBertForSequenceClassification.forward`,  you can safely ignore this message.\n",
            "***** Running Evaluation *****\n",
            "  Num examples = 6773\n",
            "  Batch size = 16\n",
            "The following columns in the evaluation set don't have a corresponding argument in `DistilBertForSequenceClassification.forward` and have been ignored: question_code_snippet_pair, idx. If question_code_snippet_pair, idx are not expected by `DistilBertForSequenceClassification.forward`,  you can safely ignore this message.\n",
            "***** Running Evaluation *****\n",
            "  Num examples = 6773\n",
            "  Batch size = 16\n",
            "Saving model checkpoint to distilbert-base-uncased-finetuned-code-snippet-quality-scoring/checkpoint-7620\n",
            "Configuration saved in distilbert-base-uncased-finetuned-code-snippet-quality-scoring/checkpoint-7620/config.json\n",
            "Model weights saved in distilbert-base-uncased-finetuned-code-snippet-quality-scoring/checkpoint-7620/pytorch_model.bin\n",
            "tokenizer config file saved in distilbert-base-uncased-finetuned-code-snippet-quality-scoring/checkpoint-7620/tokenizer_config.json\n",
            "Special tokens file saved in distilbert-base-uncased-finetuned-code-snippet-quality-scoring/checkpoint-7620/special_tokens_map.json\n",
            "tokenizer config file saved in distilbert-base-uncased-finetuned-code-snippet-quality-scoring/tokenizer_config.json\n",
            "Special tokens file saved in distilbert-base-uncased-finetuned-code-snippet-quality-scoring/special_tokens_map.json\n",
            "The following columns in the evaluation set don't have a corresponding argument in `DistilBertForSequenceClassification.forward` and have been ignored: question_code_snippet_pair, idx. If question_code_snippet_pair, idx are not expected by `DistilBertForSequenceClassification.forward`,  you can safely ignore this message.\n",
            "***** Running Evaluation *****\n",
            "  Num examples = 6773\n",
            "  Batch size = 16\n",
            "The following columns in the evaluation set don't have a corresponding argument in `DistilBertForSequenceClassification.forward` and have been ignored: question_code_snippet_pair, idx. If question_code_snippet_pair, idx are not expected by `DistilBertForSequenceClassification.forward`,  you can safely ignore this message.\n",
            "***** Running Evaluation *****\n",
            "  Num examples = 6773\n",
            "  Batch size = 16\n",
            "The following columns in the evaluation set don't have a corresponding argument in `DistilBertForSequenceClassification.forward` and have been ignored: question_code_snippet_pair, idx. If question_code_snippet_pair, idx are not expected by `DistilBertForSequenceClassification.forward`,  you can safely ignore this message.\n",
            "***** Running Evaluation *****\n",
            "  Num examples = 6773\n",
            "  Batch size = 16\n",
            "The following columns in the evaluation set don't have a corresponding argument in `DistilBertForSequenceClassification.forward` and have been ignored: question_code_snippet_pair, idx. If question_code_snippet_pair, idx are not expected by `DistilBertForSequenceClassification.forward`,  you can safely ignore this message.\n",
            "***** Running Evaluation *****\n",
            "  Num examples = 6773\n",
            "  Batch size = 16\n",
            "The following columns in the evaluation set don't have a corresponding argument in `DistilBertForSequenceClassification.forward` and have been ignored: question_code_snippet_pair, idx. If question_code_snippet_pair, idx are not expected by `DistilBertForSequenceClassification.forward`,  you can safely ignore this message.\n",
            "***** Running Evaluation *****\n",
            "  Num examples = 6773\n",
            "  Batch size = 16\n",
            "The following columns in the evaluation set don't have a corresponding argument in `DistilBertForSequenceClassification.forward` and have been ignored: question_code_snippet_pair, idx. If question_code_snippet_pair, idx are not expected by `DistilBertForSequenceClassification.forward`,  you can safely ignore this message.\n",
            "***** Running Evaluation *****\n",
            "  Num examples = 6773\n",
            "  Batch size = 16\n",
            "The following columns in the evaluation set don't have a corresponding argument in `DistilBertForSequenceClassification.forward` and have been ignored: question_code_snippet_pair, idx. If question_code_snippet_pair, idx are not expected by `DistilBertForSequenceClassification.forward`,  you can safely ignore this message.\n",
            "***** Running Evaluation *****\n",
            "  Num examples = 6773\n",
            "  Batch size = 16\n",
            "The following columns in the evaluation set don't have a corresponding argument in `DistilBertForSequenceClassification.forward` and have been ignored: question_code_snippet_pair, idx. If question_code_snippet_pair, idx are not expected by `DistilBertForSequenceClassification.forward`,  you can safely ignore this message.\n",
            "***** Running Evaluation *****\n",
            "  Num examples = 6773\n",
            "  Batch size = 16\n",
            "Saving model checkpoint to distilbert-base-uncased-finetuned-code-snippet-quality-scoring/checkpoint-15240\n",
            "Configuration saved in distilbert-base-uncased-finetuned-code-snippet-quality-scoring/checkpoint-15240/config.json\n",
            "Model weights saved in distilbert-base-uncased-finetuned-code-snippet-quality-scoring/checkpoint-15240/pytorch_model.bin\n",
            "tokenizer config file saved in distilbert-base-uncased-finetuned-code-snippet-quality-scoring/checkpoint-15240/tokenizer_config.json\n",
            "Special tokens file saved in distilbert-base-uncased-finetuned-code-snippet-quality-scoring/checkpoint-15240/special_tokens_map.json\n",
            "The following columns in the evaluation set don't have a corresponding argument in `DistilBertForSequenceClassification.forward` and have been ignored: question_code_snippet_pair, idx. If question_code_snippet_pair, idx are not expected by `DistilBertForSequenceClassification.forward`,  you can safely ignore this message.\n",
            "***** Running Evaluation *****\n",
            "  Num examples = 6773\n",
            "  Batch size = 16\n",
            "The following columns in the evaluation set don't have a corresponding argument in `DistilBertForSequenceClassification.forward` and have been ignored: question_code_snippet_pair, idx. If question_code_snippet_pair, idx are not expected by `DistilBertForSequenceClassification.forward`,  you can safely ignore this message.\n",
            "***** Running Evaluation *****\n",
            "  Num examples = 6773\n",
            "  Batch size = 16\n",
            "The following columns in the evaluation set don't have a corresponding argument in `DistilBertForSequenceClassification.forward` and have been ignored: question_code_snippet_pair, idx. If question_code_snippet_pair, idx are not expected by `DistilBertForSequenceClassification.forward`,  you can safely ignore this message.\n",
            "***** Running Evaluation *****\n",
            "  Num examples = 6773\n",
            "  Batch size = 16\n",
            "The following columns in the evaluation set don't have a corresponding argument in `DistilBertForSequenceClassification.forward` and have been ignored: question_code_snippet_pair, idx. If question_code_snippet_pair, idx are not expected by `DistilBertForSequenceClassification.forward`,  you can safely ignore this message.\n",
            "***** Running Evaluation *****\n",
            "  Num examples = 6773\n",
            "  Batch size = 16\n",
            "The following columns in the evaluation set don't have a corresponding argument in `DistilBertForSequenceClassification.forward` and have been ignored: question_code_snippet_pair, idx. If question_code_snippet_pair, idx are not expected by `DistilBertForSequenceClassification.forward`,  you can safely ignore this message.\n",
            "***** Running Evaluation *****\n",
            "  Num examples = 6773\n",
            "  Batch size = 16\n",
            "The following columns in the evaluation set don't have a corresponding argument in `DistilBertForSequenceClassification.forward` and have been ignored: question_code_snippet_pair, idx. If question_code_snippet_pair, idx are not expected by `DistilBertForSequenceClassification.forward`,  you can safely ignore this message.\n",
            "***** Running Evaluation *****\n",
            "  Num examples = 6773\n",
            "  Batch size = 16\n",
            "The following columns in the evaluation set don't have a corresponding argument in `DistilBertForSequenceClassification.forward` and have been ignored: question_code_snippet_pair, idx. If question_code_snippet_pair, idx are not expected by `DistilBertForSequenceClassification.forward`,  you can safely ignore this message.\n",
            "***** Running Evaluation *****\n",
            "  Num examples = 6773\n",
            "  Batch size = 16\n",
            "Saving model checkpoint to distilbert-base-uncased-finetuned-code-snippet-quality-scoring/checkpoint-22860\n",
            "Configuration saved in distilbert-base-uncased-finetuned-code-snippet-quality-scoring/checkpoint-22860/config.json\n",
            "Model weights saved in distilbert-base-uncased-finetuned-code-snippet-quality-scoring/checkpoint-22860/pytorch_model.bin\n",
            "tokenizer config file saved in distilbert-base-uncased-finetuned-code-snippet-quality-scoring/checkpoint-22860/tokenizer_config.json\n",
            "Special tokens file saved in distilbert-base-uncased-finetuned-code-snippet-quality-scoring/checkpoint-22860/special_tokens_map.json\n",
            "The following columns in the evaluation set don't have a corresponding argument in `DistilBertForSequenceClassification.forward` and have been ignored: question_code_snippet_pair, idx. If question_code_snippet_pair, idx are not expected by `DistilBertForSequenceClassification.forward`,  you can safely ignore this message.\n",
            "***** Running Evaluation *****\n",
            "  Num examples = 6773\n",
            "  Batch size = 16\n",
            "The following columns in the evaluation set don't have a corresponding argument in `DistilBertForSequenceClassification.forward` and have been ignored: question_code_snippet_pair, idx. If question_code_snippet_pair, idx are not expected by `DistilBertForSequenceClassification.forward`,  you can safely ignore this message.\n",
            "***** Running Evaluation *****\n",
            "  Num examples = 6773\n",
            "  Batch size = 16\n",
            "The following columns in the evaluation set don't have a corresponding argument in `DistilBertForSequenceClassification.forward` and have been ignored: question_code_snippet_pair, idx. If question_code_snippet_pair, idx are not expected by `DistilBertForSequenceClassification.forward`,  you can safely ignore this message.\n",
            "***** Running Evaluation *****\n",
            "  Num examples = 6773\n",
            "  Batch size = 16\n",
            "The following columns in the evaluation set don't have a corresponding argument in `DistilBertForSequenceClassification.forward` and have been ignored: question_code_snippet_pair, idx. If question_code_snippet_pair, idx are not expected by `DistilBertForSequenceClassification.forward`,  you can safely ignore this message.\n",
            "***** Running Evaluation *****\n",
            "  Num examples = 6773\n",
            "  Batch size = 16\n",
            "The following columns in the evaluation set don't have a corresponding argument in `DistilBertForSequenceClassification.forward` and have been ignored: question_code_snippet_pair, idx. If question_code_snippet_pair, idx are not expected by `DistilBertForSequenceClassification.forward`,  you can safely ignore this message.\n",
            "***** Running Evaluation *****\n",
            "  Num examples = 6773\n",
            "  Batch size = 16\n",
            "The following columns in the evaluation set don't have a corresponding argument in `DistilBertForSequenceClassification.forward` and have been ignored: question_code_snippet_pair, idx. If question_code_snippet_pair, idx are not expected by `DistilBertForSequenceClassification.forward`,  you can safely ignore this message.\n",
            "***** Running Evaluation *****\n",
            "  Num examples = 6773\n",
            "  Batch size = 16\n",
            "The following columns in the evaluation set don't have a corresponding argument in `DistilBertForSequenceClassification.forward` and have been ignored: question_code_snippet_pair, idx. If question_code_snippet_pair, idx are not expected by `DistilBertForSequenceClassification.forward`,  you can safely ignore this message.\n",
            "***** Running Evaluation *****\n",
            "  Num examples = 6773\n",
            "  Batch size = 16\n",
            "The following columns in the evaluation set don't have a corresponding argument in `DistilBertForSequenceClassification.forward` and have been ignored: question_code_snippet_pair, idx. If question_code_snippet_pair, idx are not expected by `DistilBertForSequenceClassification.forward`,  you can safely ignore this message.\n",
            "***** Running Evaluation *****\n",
            "  Num examples = 6773\n",
            "  Batch size = 16\n",
            "Saving model checkpoint to distilbert-base-uncased-finetuned-code-snippet-quality-scoring/checkpoint-30480\n",
            "Configuration saved in distilbert-base-uncased-finetuned-code-snippet-quality-scoring/checkpoint-30480/config.json\n",
            "Model weights saved in distilbert-base-uncased-finetuned-code-snippet-quality-scoring/checkpoint-30480/pytorch_model.bin\n",
            "tokenizer config file saved in distilbert-base-uncased-finetuned-code-snippet-quality-scoring/checkpoint-30480/tokenizer_config.json\n",
            "Special tokens file saved in distilbert-base-uncased-finetuned-code-snippet-quality-scoring/checkpoint-30480/special_tokens_map.json\n",
            "\n",
            "\n",
            "Training completed. Do not forget to share your model on huggingface.co/models =)\n",
            "\n",
            "\n"
          ]
        },
        {
          "data": {
            "text/plain": [
              "TrainOutput(global_step=30480, training_loss=0.311988140466645, metrics={'train_runtime': 22980.7689, 'train_samples_per_second': 21.221, 'train_steps_per_second': 1.326, 'total_flos': 5.577215896225104e+16, 'train_loss': 0.311988140466645, 'epoch': 4.0})"
            ]
          },
          "execution_count": 32,
          "metadata": {},
          "output_type": "execute_result"
        }
      ],
      "source": [
        "# Actual fine-tuning step:\n",
        "trainer.train()"
      ]
    },
    {
      "cell_type": "code",
      "execution_count": null,
      "metadata": {
        "id": "ShJBsGb4kLBo"
      },
      "outputs": [],
      "source": [
        "# Save model to the huggingface hub\n",
        "trainer.push_to_hub()"
      ]
    }
  ],
  "metadata": {
    "accelerator": "GPU",
    "colab": {
      "collapsed_sections": [],
      "machine_shape": "hm",
      "name": "fine-tune-bert-code-quality-classifcation-model.ipynb",
      "provenance": []
    },
    "gpuClass": "standard",
    "kernelspec": {
      "display_name": "Python 3.9.6 64-bit",
      "language": "python",
      "name": "python3"
    },
    "language_info": {
      "name": "python",
      "version": "3.9.6"
    },
    "vscode": {
      "interpreter": {
        "hash": "31f2aee4e71d21fbe5cf8b01ff0e069b9275f58929596ceb00d14d90e3e16cd6"
      }
    },
    "widgets": {
      "application/vnd.jupyter.widget-state+json": {
        "092070613d954854a9181214077da1bb": {
          "model_module": "@jupyter-widgets/base",
          "model_module_version": "1.2.0",
          "model_name": "LayoutModel",
          "state": {
            "_model_module": "@jupyter-widgets/base",
            "_model_module_version": "1.2.0",
            "_model_name": "LayoutModel",
            "_view_count": null,
            "_view_module": "@jupyter-widgets/base",
            "_view_module_version": "1.2.0",
            "_view_name": "LayoutView",
            "align_content": null,
            "align_items": null,
            "align_self": null,
            "border": null,
            "bottom": null,
            "display": null,
            "flex": null,
            "flex_flow": null,
            "grid_area": null,
            "grid_auto_columns": null,
            "grid_auto_flow": null,
            "grid_auto_rows": null,
            "grid_column": null,
            "grid_gap": null,
            "grid_row": null,
            "grid_template_areas": null,
            "grid_template_columns": null,
            "grid_template_rows": null,
            "height": null,
            "justify_content": null,
            "justify_items": null,
            "left": null,
            "margin": null,
            "max_height": null,
            "max_width": null,
            "min_height": null,
            "min_width": null,
            "object_fit": null,
            "object_position": null,
            "order": null,
            "overflow": null,
            "overflow_x": null,
            "overflow_y": null,
            "padding": null,
            "right": null,
            "top": null,
            "visibility": null,
            "width": null
          }
        },
        "18b0c2dc838a42758be66a71d5bfbff5": {
          "model_module": "@jupyter-widgets/base",
          "model_module_version": "1.2.0",
          "model_name": "LayoutModel",
          "state": {
            "_model_module": "@jupyter-widgets/base",
            "_model_module_version": "1.2.0",
            "_model_name": "LayoutModel",
            "_view_count": null,
            "_view_module": "@jupyter-widgets/base",
            "_view_module_version": "1.2.0",
            "_view_name": "LayoutView",
            "align_content": null,
            "align_items": null,
            "align_self": null,
            "border": null,
            "bottom": null,
            "display": null,
            "flex": null,
            "flex_flow": null,
            "grid_area": null,
            "grid_auto_columns": null,
            "grid_auto_flow": null,
            "grid_auto_rows": null,
            "grid_column": null,
            "grid_gap": null,
            "grid_row": null,
            "grid_template_areas": null,
            "grid_template_columns": null,
            "grid_template_rows": null,
            "height": null,
            "justify_content": null,
            "justify_items": null,
            "left": null,
            "margin": null,
            "max_height": null,
            "max_width": null,
            "min_height": null,
            "min_width": null,
            "object_fit": null,
            "object_position": null,
            "order": null,
            "overflow": null,
            "overflow_x": null,
            "overflow_y": null,
            "padding": null,
            "right": null,
            "top": null,
            "visibility": null,
            "width": null
          }
        },
        "1a315a4f30044ea2bfac1feb1ea1f3e2": {
          "model_module": "@jupyter-widgets/base",
          "model_module_version": "1.2.0",
          "model_name": "LayoutModel",
          "state": {
            "_model_module": "@jupyter-widgets/base",
            "_model_module_version": "1.2.0",
            "_model_name": "LayoutModel",
            "_view_count": null,
            "_view_module": "@jupyter-widgets/base",
            "_view_module_version": "1.2.0",
            "_view_name": "LayoutView",
            "align_content": null,
            "align_items": null,
            "align_self": null,
            "border": null,
            "bottom": null,
            "display": null,
            "flex": null,
            "flex_flow": null,
            "grid_area": null,
            "grid_auto_columns": null,
            "grid_auto_flow": null,
            "grid_auto_rows": null,
            "grid_column": null,
            "grid_gap": null,
            "grid_row": null,
            "grid_template_areas": null,
            "grid_template_columns": null,
            "grid_template_rows": null,
            "height": null,
            "justify_content": null,
            "justify_items": null,
            "left": null,
            "margin": null,
            "max_height": null,
            "max_width": null,
            "min_height": null,
            "min_width": null,
            "object_fit": null,
            "object_position": null,
            "order": null,
            "overflow": null,
            "overflow_x": null,
            "overflow_y": null,
            "padding": null,
            "right": null,
            "top": null,
            "visibility": null,
            "width": null
          }
        },
        "1d0ca269a58d4aa6bdee8cef6679cefb": {
          "model_module": "@jupyter-widgets/controls",
          "model_module_version": "1.5.0",
          "model_name": "VBoxModel",
          "state": {
            "_dom_classes": [],
            "_model_module": "@jupyter-widgets/controls",
            "_model_module_version": "1.5.0",
            "_model_name": "VBoxModel",
            "_view_count": null,
            "_view_module": "@jupyter-widgets/controls",
            "_view_module_version": "1.5.0",
            "_view_name": "VBoxView",
            "box_style": "",
            "children": [
              "IPY_MODEL_c529ff7c243c485cbcfd109642c147fe",
              "IPY_MODEL_f1d2295c164f4d7b83c130de4e1fe3b3",
              "IPY_MODEL_c2c8e12b4256417d92104aa28fd2907c",
              "IPY_MODEL_49a88009fbe74ba48102c0873d04bf03"
            ],
            "layout": "IPY_MODEL_ff65d81be125458997b44372e4f283b8"
          }
        },
        "1f951138dcbb4958b9bd1459eb1a19f3": {
          "model_module": "@jupyter-widgets/controls",
          "model_module_version": "1.5.0",
          "model_name": "HTMLModel",
          "state": {
            "_dom_classes": [],
            "_model_module": "@jupyter-widgets/controls",
            "_model_module_version": "1.5.0",
            "_model_name": "HTMLModel",
            "_view_count": null,
            "_view_module": "@jupyter-widgets/controls",
            "_view_module_version": "1.5.0",
            "_view_name": "HTMLView",
            "description": "",
            "description_tooltip": null,
            "layout": "IPY_MODEL_3bc2ef82870744569d66abc5a52dd894",
            "placeholder": "​",
            "style": "IPY_MODEL_a49c3cafb2624e65b514802c74ebbcf9",
            "value": "100%"
          }
        },
        "221c13b4de3240fd97e97e0cde13bb7e": {
          "model_module": "@jupyter-widgets/controls",
          "model_module_version": "1.5.0",
          "model_name": "DescriptionStyleModel",
          "state": {
            "_model_module": "@jupyter-widgets/controls",
            "_model_module_version": "1.5.0",
            "_model_name": "DescriptionStyleModel",
            "_view_count": null,
            "_view_module": "@jupyter-widgets/base",
            "_view_module_version": "1.2.0",
            "_view_name": "StyleView",
            "description_width": ""
          }
        },
        "3bc2ef82870744569d66abc5a52dd894": {
          "model_module": "@jupyter-widgets/base",
          "model_module_version": "1.2.0",
          "model_name": "LayoutModel",
          "state": {
            "_model_module": "@jupyter-widgets/base",
            "_model_module_version": "1.2.0",
            "_model_name": "LayoutModel",
            "_view_count": null,
            "_view_module": "@jupyter-widgets/base",
            "_view_module_version": "1.2.0",
            "_view_name": "LayoutView",
            "align_content": null,
            "align_items": null,
            "align_self": null,
            "border": null,
            "bottom": null,
            "display": null,
            "flex": null,
            "flex_flow": null,
            "grid_area": null,
            "grid_auto_columns": null,
            "grid_auto_flow": null,
            "grid_auto_rows": null,
            "grid_column": null,
            "grid_gap": null,
            "grid_row": null,
            "grid_template_areas": null,
            "grid_template_columns": null,
            "grid_template_rows": null,
            "height": null,
            "justify_content": null,
            "justify_items": null,
            "left": null,
            "margin": null,
            "max_height": null,
            "max_width": null,
            "min_height": null,
            "min_width": null,
            "object_fit": null,
            "object_position": null,
            "order": null,
            "overflow": null,
            "overflow_x": null,
            "overflow_y": null,
            "padding": null,
            "right": null,
            "top": null,
            "visibility": null,
            "width": null
          }
        },
        "3dacee9080de4e6886c68f9ba93ea3ba": {
          "model_module": "@jupyter-widgets/controls",
          "model_module_version": "1.5.0",
          "model_name": "HBoxModel",
          "state": {
            "_dom_classes": [],
            "_model_module": "@jupyter-widgets/controls",
            "_model_module_version": "1.5.0",
            "_model_name": "HBoxModel",
            "_view_count": null,
            "_view_module": "@jupyter-widgets/controls",
            "_view_module_version": "1.5.0",
            "_view_name": "HBoxView",
            "box_style": "",
            "children": [
              "IPY_MODEL_1f951138dcbb4958b9bd1459eb1a19f3",
              "IPY_MODEL_713852934bca4356b4f8807ae61b16a5",
              "IPY_MODEL_8f64739679c24f718427866f35289e6c"
            ],
            "layout": "IPY_MODEL_b8f48f05733c4b48ba86644c92d7fe16"
          }
        },
        "44393ac4c3f4436090ecc31aa3e2130d": {
          "model_module": "@jupyter-widgets/controls",
          "model_module_version": "1.5.0",
          "model_name": "HTMLModel",
          "state": {
            "_dom_classes": [],
            "_model_module": "@jupyter-widgets/controls",
            "_model_module_version": "1.5.0",
            "_model_name": "HTMLModel",
            "_view_count": null,
            "_view_module": "@jupyter-widgets/controls",
            "_view_module_version": "1.5.0",
            "_view_name": "HTMLView",
            "description": "",
            "description_tooltip": null,
            "layout": "IPY_MODEL_f4dfac1ed58a48c391192ef087094189",
            "placeholder": "​",
            "style": "IPY_MODEL_6801aaa895cb4d168cef77e0d9d2f097",
            "value": " 122/122 [00:23&lt;00:00,  5.72ba/s]"
          }
        },
        "4804baa379fd4539ac2289ddabbf84a2": {
          "model_module": "@jupyter-widgets/base",
          "model_module_version": "1.2.0",
          "model_name": "LayoutModel",
          "state": {
            "_model_module": "@jupyter-widgets/base",
            "_model_module_version": "1.2.0",
            "_model_name": "LayoutModel",
            "_view_count": null,
            "_view_module": "@jupyter-widgets/base",
            "_view_module_version": "1.2.0",
            "_view_name": "LayoutView",
            "align_content": null,
            "align_items": null,
            "align_self": null,
            "border": null,
            "bottom": null,
            "display": null,
            "flex": null,
            "flex_flow": null,
            "grid_area": null,
            "grid_auto_columns": null,
            "grid_auto_flow": null,
            "grid_auto_rows": null,
            "grid_column": null,
            "grid_gap": null,
            "grid_row": null,
            "grid_template_areas": null,
            "grid_template_columns": null,
            "grid_template_rows": null,
            "height": null,
            "justify_content": null,
            "justify_items": null,
            "left": null,
            "margin": null,
            "max_height": null,
            "max_width": null,
            "min_height": null,
            "min_width": null,
            "object_fit": null,
            "object_position": null,
            "order": null,
            "overflow": null,
            "overflow_x": null,
            "overflow_y": null,
            "padding": null,
            "right": null,
            "top": null,
            "visibility": null,
            "width": null
          }
        },
        "49a88009fbe74ba48102c0873d04bf03": {
          "model_module": "@jupyter-widgets/controls",
          "model_module_version": "1.5.0",
          "model_name": "HTMLModel",
          "state": {
            "_dom_classes": [],
            "_model_module": "@jupyter-widgets/controls",
            "_model_module_version": "1.5.0",
            "_model_name": "HTMLModel",
            "_view_count": null,
            "_view_module": "@jupyter-widgets/controls",
            "_view_module_version": "1.5.0",
            "_view_name": "HTMLView",
            "description": "",
            "description_tooltip": null,
            "layout": "IPY_MODEL_1a315a4f30044ea2bfac1feb1ea1f3e2",
            "placeholder": "​",
            "style": "IPY_MODEL_58f18e5e9ec1407e997bceee1dfa32c9",
            "value": "\n<b>Pro Tip:</b> If you don't already have one, you can create a dedicated\n'notebooks' token with 'write' access, that you can then easily reuse for all\nnotebooks. </center>"
          }
        },
        "576c3c38b4c34915b3d10a6baaa9119c": {
          "model_module": "@jupyter-widgets/base",
          "model_module_version": "1.2.0",
          "model_name": "LayoutModel",
          "state": {
            "_model_module": "@jupyter-widgets/base",
            "_model_module_version": "1.2.0",
            "_model_name": "LayoutModel",
            "_view_count": null,
            "_view_module": "@jupyter-widgets/base",
            "_view_module_version": "1.2.0",
            "_view_name": "LayoutView",
            "align_content": null,
            "align_items": null,
            "align_self": null,
            "border": null,
            "bottom": null,
            "display": null,
            "flex": null,
            "flex_flow": null,
            "grid_area": null,
            "grid_auto_columns": null,
            "grid_auto_flow": null,
            "grid_auto_rows": null,
            "grid_column": null,
            "grid_gap": null,
            "grid_row": null,
            "grid_template_areas": null,
            "grid_template_columns": null,
            "grid_template_rows": null,
            "height": null,
            "justify_content": null,
            "justify_items": null,
            "left": null,
            "margin": null,
            "max_height": null,
            "max_width": null,
            "min_height": null,
            "min_width": null,
            "object_fit": null,
            "object_position": null,
            "order": null,
            "overflow": null,
            "overflow_x": null,
            "overflow_y": null,
            "padding": null,
            "right": null,
            "top": null,
            "visibility": null,
            "width": null
          }
        },
        "58324ea8562c4df79377a1173b0ea8aa": {
          "model_module": "@jupyter-widgets/controls",
          "model_module_version": "1.5.0",
          "model_name": "FloatProgressModel",
          "state": {
            "_dom_classes": [],
            "_model_module": "@jupyter-widgets/controls",
            "_model_module_version": "1.5.0",
            "_model_name": "FloatProgressModel",
            "_view_count": null,
            "_view_module": "@jupyter-widgets/controls",
            "_view_module_version": "1.5.0",
            "_view_name": "ProgressView",
            "bar_style": "success",
            "description": "",
            "description_tooltip": null,
            "layout": "IPY_MODEL_18b0c2dc838a42758be66a71d5bfbff5",
            "max": 122,
            "min": 0,
            "orientation": "horizontal",
            "style": "IPY_MODEL_642d816231c04e55b3523c7ae1106751",
            "value": 122
          }
        },
        "58f18e5e9ec1407e997bceee1dfa32c9": {
          "model_module": "@jupyter-widgets/controls",
          "model_module_version": "1.5.0",
          "model_name": "DescriptionStyleModel",
          "state": {
            "_model_module": "@jupyter-widgets/controls",
            "_model_module_version": "1.5.0",
            "_model_name": "DescriptionStyleModel",
            "_view_count": null,
            "_view_module": "@jupyter-widgets/base",
            "_view_module_version": "1.2.0",
            "_view_name": "StyleView",
            "description_width": ""
          }
        },
        "642d816231c04e55b3523c7ae1106751": {
          "model_module": "@jupyter-widgets/controls",
          "model_module_version": "1.5.0",
          "model_name": "ProgressStyleModel",
          "state": {
            "_model_module": "@jupyter-widgets/controls",
            "_model_module_version": "1.5.0",
            "_model_name": "ProgressStyleModel",
            "_view_count": null,
            "_view_module": "@jupyter-widgets/base",
            "_view_module_version": "1.2.0",
            "_view_name": "StyleView",
            "bar_color": null,
            "description_width": ""
          }
        },
        "66ec9ee53c774a178916a985e256e33d": {
          "model_module": "@jupyter-widgets/controls",
          "model_module_version": "1.5.0",
          "model_name": "ProgressStyleModel",
          "state": {
            "_model_module": "@jupyter-widgets/controls",
            "_model_module_version": "1.5.0",
            "_model_name": "ProgressStyleModel",
            "_view_count": null,
            "_view_module": "@jupyter-widgets/base",
            "_view_module_version": "1.2.0",
            "_view_name": "StyleView",
            "bar_color": null,
            "description_width": ""
          }
        },
        "6801aaa895cb4d168cef77e0d9d2f097": {
          "model_module": "@jupyter-widgets/controls",
          "model_module_version": "1.5.0",
          "model_name": "DescriptionStyleModel",
          "state": {
            "_model_module": "@jupyter-widgets/controls",
            "_model_module_version": "1.5.0",
            "_model_name": "DescriptionStyleModel",
            "_view_count": null,
            "_view_module": "@jupyter-widgets/base",
            "_view_module_version": "1.2.0",
            "_view_name": "StyleView",
            "description_width": ""
          }
        },
        "6aa2ef60e35f4959a1be383b25fc32bc": {
          "model_module": "@jupyter-widgets/base",
          "model_module_version": "1.2.0",
          "model_name": "LayoutModel",
          "state": {
            "_model_module": "@jupyter-widgets/base",
            "_model_module_version": "1.2.0",
            "_model_name": "LayoutModel",
            "_view_count": null,
            "_view_module": "@jupyter-widgets/base",
            "_view_module_version": "1.2.0",
            "_view_name": "LayoutView",
            "align_content": null,
            "align_items": null,
            "align_self": null,
            "border": null,
            "bottom": null,
            "display": null,
            "flex": null,
            "flex_flow": null,
            "grid_area": null,
            "grid_auto_columns": null,
            "grid_auto_flow": null,
            "grid_auto_rows": null,
            "grid_column": null,
            "grid_gap": null,
            "grid_row": null,
            "grid_template_areas": null,
            "grid_template_columns": null,
            "grid_template_rows": null,
            "height": null,
            "justify_content": null,
            "justify_items": null,
            "left": null,
            "margin": null,
            "max_height": null,
            "max_width": null,
            "min_height": null,
            "min_width": null,
            "object_fit": null,
            "object_position": null,
            "order": null,
            "overflow": null,
            "overflow_x": null,
            "overflow_y": null,
            "padding": null,
            "right": null,
            "top": null,
            "visibility": null,
            "width": null
          }
        },
        "713852934bca4356b4f8807ae61b16a5": {
          "model_module": "@jupyter-widgets/controls",
          "model_module_version": "1.5.0",
          "model_name": "FloatProgressModel",
          "state": {
            "_dom_classes": [],
            "_model_module": "@jupyter-widgets/controls",
            "_model_module_version": "1.5.0",
            "_model_name": "FloatProgressModel",
            "_view_count": null,
            "_view_module": "@jupyter-widgets/controls",
            "_view_module_version": "1.5.0",
            "_view_name": "ProgressView",
            "bar_style": "success",
            "description": "",
            "description_tooltip": null,
            "layout": "IPY_MODEL_576c3c38b4c34915b3d10a6baaa9119c",
            "max": 7,
            "min": 0,
            "orientation": "horizontal",
            "style": "IPY_MODEL_66ec9ee53c774a178916a985e256e33d",
            "value": 7
          }
        },
        "76551453a22c43e886f541c0aa3e555e": {
          "model_module": "@jupyter-widgets/base",
          "model_module_version": "1.2.0",
          "model_name": "LayoutModel",
          "state": {
            "_model_module": "@jupyter-widgets/base",
            "_model_module_version": "1.2.0",
            "_model_name": "LayoutModel",
            "_view_count": null,
            "_view_module": "@jupyter-widgets/base",
            "_view_module_version": "1.2.0",
            "_view_name": "LayoutView",
            "align_content": null,
            "align_items": null,
            "align_self": null,
            "border": null,
            "bottom": null,
            "display": null,
            "flex": null,
            "flex_flow": null,
            "grid_area": null,
            "grid_auto_columns": null,
            "grid_auto_flow": null,
            "grid_auto_rows": null,
            "grid_column": null,
            "grid_gap": null,
            "grid_row": null,
            "grid_template_areas": null,
            "grid_template_columns": null,
            "grid_template_rows": null,
            "height": null,
            "justify_content": null,
            "justify_items": null,
            "left": null,
            "margin": null,
            "max_height": null,
            "max_width": null,
            "min_height": null,
            "min_width": null,
            "object_fit": null,
            "object_position": null,
            "order": null,
            "overflow": null,
            "overflow_x": null,
            "overflow_y": null,
            "padding": null,
            "right": null,
            "top": null,
            "visibility": null,
            "width": null
          }
        },
        "792679599ce44feebda8497d92d34acf": {
          "model_module": "@jupyter-widgets/controls",
          "model_module_version": "1.5.0",
          "model_name": "HTMLModel",
          "state": {
            "_dom_classes": [],
            "_model_module": "@jupyter-widgets/controls",
            "_model_module_version": "1.5.0",
            "_model_name": "HTMLModel",
            "_view_count": null,
            "_view_module": "@jupyter-widgets/controls",
            "_view_module_version": "1.5.0",
            "_view_name": "HTMLView",
            "description": "",
            "description_tooltip": null,
            "layout": "IPY_MODEL_91dc20c5409f470a96a8cd604b0a7b67",
            "placeholder": "​",
            "style": "IPY_MODEL_a3db3b75164947369d261b3200854517",
            "value": " 7/7 [00:01&lt;00:00,  6.05ba/s]"
          }
        },
        "7c75327431084004bacb866db10b1e2c": {
          "model_module": "@jupyter-widgets/controls",
          "model_module_version": "1.5.0",
          "model_name": "ProgressStyleModel",
          "state": {
            "_model_module": "@jupyter-widgets/controls",
            "_model_module_version": "1.5.0",
            "_model_name": "ProgressStyleModel",
            "_view_count": null,
            "_view_module": "@jupyter-widgets/base",
            "_view_module_version": "1.2.0",
            "_view_name": "StyleView",
            "bar_color": null,
            "description_width": ""
          }
        },
        "7d32aa3a7f1140e4a321bd97167cf75b": {
          "model_module": "@jupyter-widgets/controls",
          "model_module_version": "1.5.0",
          "model_name": "HBoxModel",
          "state": {
            "_dom_classes": [],
            "_model_module": "@jupyter-widgets/controls",
            "_model_module_version": "1.5.0",
            "_model_name": "HBoxModel",
            "_view_count": null,
            "_view_module": "@jupyter-widgets/controls",
            "_view_module_version": "1.5.0",
            "_view_name": "HBoxView",
            "box_style": "",
            "children": [
              "IPY_MODEL_ec673e5084cc40e994535eba5c5e1147",
              "IPY_MODEL_58324ea8562c4df79377a1173b0ea8aa",
              "IPY_MODEL_44393ac4c3f4436090ecc31aa3e2130d"
            ],
            "layout": "IPY_MODEL_76551453a22c43e886f541c0aa3e555e"
          }
        },
        "8b2adc5a1b144f8e8a294a6a0b265ba7": {
          "model_module": "@jupyter-widgets/base",
          "model_module_version": "1.2.0",
          "model_name": "LayoutModel",
          "state": {
            "_model_module": "@jupyter-widgets/base",
            "_model_module_version": "1.2.0",
            "_model_name": "LayoutModel",
            "_view_count": null,
            "_view_module": "@jupyter-widgets/base",
            "_view_module_version": "1.2.0",
            "_view_name": "LayoutView",
            "align_content": null,
            "align_items": null,
            "align_self": null,
            "border": null,
            "bottom": null,
            "display": null,
            "flex": null,
            "flex_flow": null,
            "grid_area": null,
            "grid_auto_columns": null,
            "grid_auto_flow": null,
            "grid_auto_rows": null,
            "grid_column": null,
            "grid_gap": null,
            "grid_row": null,
            "grid_template_areas": null,
            "grid_template_columns": null,
            "grid_template_rows": null,
            "height": null,
            "justify_content": null,
            "justify_items": null,
            "left": null,
            "margin": null,
            "max_height": null,
            "max_width": null,
            "min_height": null,
            "min_width": null,
            "object_fit": null,
            "object_position": null,
            "order": null,
            "overflow": null,
            "overflow_x": null,
            "overflow_y": null,
            "padding": null,
            "right": null,
            "top": null,
            "visibility": null,
            "width": null
          }
        },
        "8f64739679c24f718427866f35289e6c": {
          "model_module": "@jupyter-widgets/controls",
          "model_module_version": "1.5.0",
          "model_name": "HTMLModel",
          "state": {
            "_dom_classes": [],
            "_model_module": "@jupyter-widgets/controls",
            "_model_module_version": "1.5.0",
            "_model_name": "HTMLModel",
            "_view_count": null,
            "_view_module": "@jupyter-widgets/controls",
            "_view_module_version": "1.5.0",
            "_view_name": "HTMLView",
            "description": "",
            "description_tooltip": null,
            "layout": "IPY_MODEL_c98348257d8f40fb939b52fa278ff488",
            "placeholder": "​",
            "style": "IPY_MODEL_d385f4969310445a99629d82fdca3f9b",
            "value": " 7/7 [00:01&lt;00:00,  5.90ba/s]"
          }
        },
        "91dc20c5409f470a96a8cd604b0a7b67": {
          "model_module": "@jupyter-widgets/base",
          "model_module_version": "1.2.0",
          "model_name": "LayoutModel",
          "state": {
            "_model_module": "@jupyter-widgets/base",
            "_model_module_version": "1.2.0",
            "_model_name": "LayoutModel",
            "_view_count": null,
            "_view_module": "@jupyter-widgets/base",
            "_view_module_version": "1.2.0",
            "_view_name": "LayoutView",
            "align_content": null,
            "align_items": null,
            "align_self": null,
            "border": null,
            "bottom": null,
            "display": null,
            "flex": null,
            "flex_flow": null,
            "grid_area": null,
            "grid_auto_columns": null,
            "grid_auto_flow": null,
            "grid_auto_rows": null,
            "grid_column": null,
            "grid_gap": null,
            "grid_row": null,
            "grid_template_areas": null,
            "grid_template_columns": null,
            "grid_template_rows": null,
            "height": null,
            "justify_content": null,
            "justify_items": null,
            "left": null,
            "margin": null,
            "max_height": null,
            "max_width": null,
            "min_height": null,
            "min_width": null,
            "object_fit": null,
            "object_position": null,
            "order": null,
            "overflow": null,
            "overflow_x": null,
            "overflow_y": null,
            "padding": null,
            "right": null,
            "top": null,
            "visibility": null,
            "width": null
          }
        },
        "a2d13a24f96b49928f54884dc2c38585": {
          "model_module": "@jupyter-widgets/controls",
          "model_module_version": "1.5.0",
          "model_name": "ButtonStyleModel",
          "state": {
            "_model_module": "@jupyter-widgets/controls",
            "_model_module_version": "1.5.0",
            "_model_name": "ButtonStyleModel",
            "_view_count": null,
            "_view_module": "@jupyter-widgets/base",
            "_view_module_version": "1.2.0",
            "_view_name": "StyleView",
            "button_color": null,
            "font_weight": ""
          }
        },
        "a3db3b75164947369d261b3200854517": {
          "model_module": "@jupyter-widgets/controls",
          "model_module_version": "1.5.0",
          "model_name": "DescriptionStyleModel",
          "state": {
            "_model_module": "@jupyter-widgets/controls",
            "_model_module_version": "1.5.0",
            "_model_name": "DescriptionStyleModel",
            "_view_count": null,
            "_view_module": "@jupyter-widgets/base",
            "_view_module_version": "1.2.0",
            "_view_name": "StyleView",
            "description_width": ""
          }
        },
        "a49c3cafb2624e65b514802c74ebbcf9": {
          "model_module": "@jupyter-widgets/controls",
          "model_module_version": "1.5.0",
          "model_name": "DescriptionStyleModel",
          "state": {
            "_model_module": "@jupyter-widgets/controls",
            "_model_module_version": "1.5.0",
            "_model_name": "DescriptionStyleModel",
            "_view_count": null,
            "_view_module": "@jupyter-widgets/base",
            "_view_module_version": "1.2.0",
            "_view_name": "StyleView",
            "description_width": ""
          }
        },
        "a7d8c86cdbe84dd29ec783b38f76be1e": {
          "model_module": "@jupyter-widgets/base",
          "model_module_version": "1.2.0",
          "model_name": "LayoutModel",
          "state": {
            "_model_module": "@jupyter-widgets/base",
            "_model_module_version": "1.2.0",
            "_model_name": "LayoutModel",
            "_view_count": null,
            "_view_module": "@jupyter-widgets/base",
            "_view_module_version": "1.2.0",
            "_view_name": "LayoutView",
            "align_content": null,
            "align_items": null,
            "align_self": null,
            "border": null,
            "bottom": null,
            "display": null,
            "flex": null,
            "flex_flow": null,
            "grid_area": null,
            "grid_auto_columns": null,
            "grid_auto_flow": null,
            "grid_auto_rows": null,
            "grid_column": null,
            "grid_gap": null,
            "grid_row": null,
            "grid_template_areas": null,
            "grid_template_columns": null,
            "grid_template_rows": null,
            "height": null,
            "justify_content": null,
            "justify_items": null,
            "left": null,
            "margin": null,
            "max_height": null,
            "max_width": null,
            "min_height": null,
            "min_width": null,
            "object_fit": null,
            "object_position": null,
            "order": null,
            "overflow": null,
            "overflow_x": null,
            "overflow_y": null,
            "padding": null,
            "right": null,
            "top": null,
            "visibility": null,
            "width": null
          }
        },
        "b8f48f05733c4b48ba86644c92d7fe16": {
          "model_module": "@jupyter-widgets/base",
          "model_module_version": "1.2.0",
          "model_name": "LayoutModel",
          "state": {
            "_model_module": "@jupyter-widgets/base",
            "_model_module_version": "1.2.0",
            "_model_name": "LayoutModel",
            "_view_count": null,
            "_view_module": "@jupyter-widgets/base",
            "_view_module_version": "1.2.0",
            "_view_name": "LayoutView",
            "align_content": null,
            "align_items": null,
            "align_self": null,
            "border": null,
            "bottom": null,
            "display": null,
            "flex": null,
            "flex_flow": null,
            "grid_area": null,
            "grid_auto_columns": null,
            "grid_auto_flow": null,
            "grid_auto_rows": null,
            "grid_column": null,
            "grid_gap": null,
            "grid_row": null,
            "grid_template_areas": null,
            "grid_template_columns": null,
            "grid_template_rows": null,
            "height": null,
            "justify_content": null,
            "justify_items": null,
            "left": null,
            "margin": null,
            "max_height": null,
            "max_width": null,
            "min_height": null,
            "min_width": null,
            "object_fit": null,
            "object_position": null,
            "order": null,
            "overflow": null,
            "overflow_x": null,
            "overflow_y": null,
            "padding": null,
            "right": null,
            "top": null,
            "visibility": null,
            "width": null
          }
        },
        "baad54c6d8a5478893ed6affc3cf9bc8": {
          "model_module": "@jupyter-widgets/controls",
          "model_module_version": "1.5.0",
          "model_name": "HBoxModel",
          "state": {
            "_dom_classes": [],
            "_model_module": "@jupyter-widgets/controls",
            "_model_module_version": "1.5.0",
            "_model_name": "HBoxModel",
            "_view_count": null,
            "_view_module": "@jupyter-widgets/controls",
            "_view_module_version": "1.5.0",
            "_view_name": "HBoxView",
            "box_style": "",
            "children": [
              "IPY_MODEL_ef309e9a9011424ab92c6f450d1dccda",
              "IPY_MODEL_c7922ca576f24af0b5353b62838e74cf",
              "IPY_MODEL_792679599ce44feebda8497d92d34acf"
            ],
            "layout": "IPY_MODEL_8b2adc5a1b144f8e8a294a6a0b265ba7"
          }
        },
        "c2c8e12b4256417d92104aa28fd2907c": {
          "model_module": "@jupyter-widgets/controls",
          "model_module_version": "1.5.0",
          "model_name": "ButtonModel",
          "state": {
            "_dom_classes": [],
            "_model_module": "@jupyter-widgets/controls",
            "_model_module_version": "1.5.0",
            "_model_name": "ButtonModel",
            "_view_count": null,
            "_view_module": "@jupyter-widgets/controls",
            "_view_module_version": "1.5.0",
            "_view_name": "ButtonView",
            "button_style": "",
            "description": "Login",
            "disabled": false,
            "icon": "",
            "layout": "IPY_MODEL_6aa2ef60e35f4959a1be383b25fc32bc",
            "style": "IPY_MODEL_a2d13a24f96b49928f54884dc2c38585",
            "tooltip": ""
          }
        },
        "c3779a02e1c141ae95323966e63bd557": {
          "model_module": "@jupyter-widgets/controls",
          "model_module_version": "1.5.0",
          "model_name": "DescriptionStyleModel",
          "state": {
            "_model_module": "@jupyter-widgets/controls",
            "_model_module_version": "1.5.0",
            "_model_name": "DescriptionStyleModel",
            "_view_count": null,
            "_view_module": "@jupyter-widgets/base",
            "_view_module_version": "1.2.0",
            "_view_name": "StyleView",
            "description_width": ""
          }
        },
        "c529ff7c243c485cbcfd109642c147fe": {
          "model_module": "@jupyter-widgets/controls",
          "model_module_version": "1.5.0",
          "model_name": "HTMLModel",
          "state": {
            "_dom_classes": [],
            "_model_module": "@jupyter-widgets/controls",
            "_model_module_version": "1.5.0",
            "_model_name": "HTMLModel",
            "_view_count": null,
            "_view_module": "@jupyter-widgets/controls",
            "_view_module_version": "1.5.0",
            "_view_name": "HTMLView",
            "description": "",
            "description_tooltip": null,
            "layout": "IPY_MODEL_e93e17ea2e2d4e71b3d263e3c431dda1",
            "placeholder": "​",
            "style": "IPY_MODEL_221c13b4de3240fd97e97e0cde13bb7e",
            "value": "<center> <img\nsrc=https://huggingface.co/front/assets/huggingface_logo-noborder.svg\nalt='Hugging Face'> <br> Copy a token from <a\nhref=\"https://huggingface.co/settings/tokens\" target=\"_blank\">your Hugging Face\ntokens page</a> and paste it below. <br> Immediately click login after copying\nyour token or it might be stored in plain text in this notebook file. </center>"
          }
        },
        "c7922ca576f24af0b5353b62838e74cf": {
          "model_module": "@jupyter-widgets/controls",
          "model_module_version": "1.5.0",
          "model_name": "FloatProgressModel",
          "state": {
            "_dom_classes": [],
            "_model_module": "@jupyter-widgets/controls",
            "_model_module_version": "1.5.0",
            "_model_name": "FloatProgressModel",
            "_view_count": null,
            "_view_module": "@jupyter-widgets/controls",
            "_view_module_version": "1.5.0",
            "_view_name": "ProgressView",
            "bar_style": "success",
            "description": "",
            "description_tooltip": null,
            "layout": "IPY_MODEL_092070613d954854a9181214077da1bb",
            "max": 7,
            "min": 0,
            "orientation": "horizontal",
            "style": "IPY_MODEL_7c75327431084004bacb866db10b1e2c",
            "value": 7
          }
        },
        "c98348257d8f40fb939b52fa278ff488": {
          "model_module": "@jupyter-widgets/base",
          "model_module_version": "1.2.0",
          "model_name": "LayoutModel",
          "state": {
            "_model_module": "@jupyter-widgets/base",
            "_model_module_version": "1.2.0",
            "_model_name": "LayoutModel",
            "_view_count": null,
            "_view_module": "@jupyter-widgets/base",
            "_view_module_version": "1.2.0",
            "_view_name": "LayoutView",
            "align_content": null,
            "align_items": null,
            "align_self": null,
            "border": null,
            "bottom": null,
            "display": null,
            "flex": null,
            "flex_flow": null,
            "grid_area": null,
            "grid_auto_columns": null,
            "grid_auto_flow": null,
            "grid_auto_rows": null,
            "grid_column": null,
            "grid_gap": null,
            "grid_row": null,
            "grid_template_areas": null,
            "grid_template_columns": null,
            "grid_template_rows": null,
            "height": null,
            "justify_content": null,
            "justify_items": null,
            "left": null,
            "margin": null,
            "max_height": null,
            "max_width": null,
            "min_height": null,
            "min_width": null,
            "object_fit": null,
            "object_position": null,
            "order": null,
            "overflow": null,
            "overflow_x": null,
            "overflow_y": null,
            "padding": null,
            "right": null,
            "top": null,
            "visibility": null,
            "width": null
          }
        },
        "d385f4969310445a99629d82fdca3f9b": {
          "model_module": "@jupyter-widgets/controls",
          "model_module_version": "1.5.0",
          "model_name": "DescriptionStyleModel",
          "state": {
            "_model_module": "@jupyter-widgets/controls",
            "_model_module_version": "1.5.0",
            "_model_name": "DescriptionStyleModel",
            "_view_count": null,
            "_view_module": "@jupyter-widgets/base",
            "_view_module_version": "1.2.0",
            "_view_name": "StyleView",
            "description_width": ""
          }
        },
        "e61d01c4d3f3433783d5365e2718d137": {
          "model_module": "@jupyter-widgets/base",
          "model_module_version": "1.2.0",
          "model_name": "LayoutModel",
          "state": {
            "_model_module": "@jupyter-widgets/base",
            "_model_module_version": "1.2.0",
            "_model_name": "LayoutModel",
            "_view_count": null,
            "_view_module": "@jupyter-widgets/base",
            "_view_module_version": "1.2.0",
            "_view_name": "LayoutView",
            "align_content": null,
            "align_items": null,
            "align_self": null,
            "border": null,
            "bottom": null,
            "display": null,
            "flex": null,
            "flex_flow": null,
            "grid_area": null,
            "grid_auto_columns": null,
            "grid_auto_flow": null,
            "grid_auto_rows": null,
            "grid_column": null,
            "grid_gap": null,
            "grid_row": null,
            "grid_template_areas": null,
            "grid_template_columns": null,
            "grid_template_rows": null,
            "height": null,
            "justify_content": null,
            "justify_items": null,
            "left": null,
            "margin": null,
            "max_height": null,
            "max_width": null,
            "min_height": null,
            "min_width": null,
            "object_fit": null,
            "object_position": null,
            "order": null,
            "overflow": null,
            "overflow_x": null,
            "overflow_y": null,
            "padding": null,
            "right": null,
            "top": null,
            "visibility": null,
            "width": null
          }
        },
        "e93e17ea2e2d4e71b3d263e3c431dda1": {
          "model_module": "@jupyter-widgets/base",
          "model_module_version": "1.2.0",
          "model_name": "LayoutModel",
          "state": {
            "_model_module": "@jupyter-widgets/base",
            "_model_module_version": "1.2.0",
            "_model_name": "LayoutModel",
            "_view_count": null,
            "_view_module": "@jupyter-widgets/base",
            "_view_module_version": "1.2.0",
            "_view_name": "LayoutView",
            "align_content": null,
            "align_items": null,
            "align_self": null,
            "border": null,
            "bottom": null,
            "display": null,
            "flex": null,
            "flex_flow": null,
            "grid_area": null,
            "grid_auto_columns": null,
            "grid_auto_flow": null,
            "grid_auto_rows": null,
            "grid_column": null,
            "grid_gap": null,
            "grid_row": null,
            "grid_template_areas": null,
            "grid_template_columns": null,
            "grid_template_rows": null,
            "height": null,
            "justify_content": null,
            "justify_items": null,
            "left": null,
            "margin": null,
            "max_height": null,
            "max_width": null,
            "min_height": null,
            "min_width": null,
            "object_fit": null,
            "object_position": null,
            "order": null,
            "overflow": null,
            "overflow_x": null,
            "overflow_y": null,
            "padding": null,
            "right": null,
            "top": null,
            "visibility": null,
            "width": null
          }
        },
        "ec518c60cbfa46248aa9a92803318c27": {
          "model_module": "@jupyter-widgets/controls",
          "model_module_version": "1.5.0",
          "model_name": "DescriptionStyleModel",
          "state": {
            "_model_module": "@jupyter-widgets/controls",
            "_model_module_version": "1.5.0",
            "_model_name": "DescriptionStyleModel",
            "_view_count": null,
            "_view_module": "@jupyter-widgets/base",
            "_view_module_version": "1.2.0",
            "_view_name": "StyleView",
            "description_width": ""
          }
        },
        "ec673e5084cc40e994535eba5c5e1147": {
          "model_module": "@jupyter-widgets/controls",
          "model_module_version": "1.5.0",
          "model_name": "HTMLModel",
          "state": {
            "_dom_classes": [],
            "_model_module": "@jupyter-widgets/controls",
            "_model_module_version": "1.5.0",
            "_model_name": "HTMLModel",
            "_view_count": null,
            "_view_module": "@jupyter-widgets/controls",
            "_view_module_version": "1.5.0",
            "_view_name": "HTMLView",
            "description": "",
            "description_tooltip": null,
            "layout": "IPY_MODEL_e61d01c4d3f3433783d5365e2718d137",
            "placeholder": "​",
            "style": "IPY_MODEL_f072016e0dc64d498c513628f8568c7e",
            "value": "100%"
          }
        },
        "ef309e9a9011424ab92c6f450d1dccda": {
          "model_module": "@jupyter-widgets/controls",
          "model_module_version": "1.5.0",
          "model_name": "HTMLModel",
          "state": {
            "_dom_classes": [],
            "_model_module": "@jupyter-widgets/controls",
            "_model_module_version": "1.5.0",
            "_model_name": "HTMLModel",
            "_view_count": null,
            "_view_module": "@jupyter-widgets/controls",
            "_view_module_version": "1.5.0",
            "_view_name": "HTMLView",
            "description": "",
            "description_tooltip": null,
            "layout": "IPY_MODEL_4804baa379fd4539ac2289ddabbf84a2",
            "placeholder": "​",
            "style": "IPY_MODEL_ec518c60cbfa46248aa9a92803318c27",
            "value": "100%"
          }
        },
        "f072016e0dc64d498c513628f8568c7e": {
          "model_module": "@jupyter-widgets/controls",
          "model_module_version": "1.5.0",
          "model_name": "DescriptionStyleModel",
          "state": {
            "_model_module": "@jupyter-widgets/controls",
            "_model_module_version": "1.5.0",
            "_model_name": "DescriptionStyleModel",
            "_view_count": null,
            "_view_module": "@jupyter-widgets/base",
            "_view_module_version": "1.2.0",
            "_view_name": "StyleView",
            "description_width": ""
          }
        },
        "f1d2295c164f4d7b83c130de4e1fe3b3": {
          "model_module": "@jupyter-widgets/controls",
          "model_module_version": "1.5.0",
          "model_name": "PasswordModel",
          "state": {
            "_dom_classes": [],
            "_model_module": "@jupyter-widgets/controls",
            "_model_module_version": "1.5.0",
            "_model_name": "PasswordModel",
            "_view_count": null,
            "_view_module": "@jupyter-widgets/controls",
            "_view_module_version": "1.5.0",
            "_view_name": "PasswordView",
            "continuous_update": true,
            "description": "Token:",
            "description_tooltip": null,
            "disabled": false,
            "layout": "IPY_MODEL_a7d8c86cdbe84dd29ec783b38f76be1e",
            "placeholder": "​",
            "style": "IPY_MODEL_c3779a02e1c141ae95323966e63bd557",
            "value": ""
          }
        },
        "f4dfac1ed58a48c391192ef087094189": {
          "model_module": "@jupyter-widgets/base",
          "model_module_version": "1.2.0",
          "model_name": "LayoutModel",
          "state": {
            "_model_module": "@jupyter-widgets/base",
            "_model_module_version": "1.2.0",
            "_model_name": "LayoutModel",
            "_view_count": null,
            "_view_module": "@jupyter-widgets/base",
            "_view_module_version": "1.2.0",
            "_view_name": "LayoutView",
            "align_content": null,
            "align_items": null,
            "align_self": null,
            "border": null,
            "bottom": null,
            "display": null,
            "flex": null,
            "flex_flow": null,
            "grid_area": null,
            "grid_auto_columns": null,
            "grid_auto_flow": null,
            "grid_auto_rows": null,
            "grid_column": null,
            "grid_gap": null,
            "grid_row": null,
            "grid_template_areas": null,
            "grid_template_columns": null,
            "grid_template_rows": null,
            "height": null,
            "justify_content": null,
            "justify_items": null,
            "left": null,
            "margin": null,
            "max_height": null,
            "max_width": null,
            "min_height": null,
            "min_width": null,
            "object_fit": null,
            "object_position": null,
            "order": null,
            "overflow": null,
            "overflow_x": null,
            "overflow_y": null,
            "padding": null,
            "right": null,
            "top": null,
            "visibility": null,
            "width": null
          }
        },
        "ff65d81be125458997b44372e4f283b8": {
          "model_module": "@jupyter-widgets/base",
          "model_module_version": "1.2.0",
          "model_name": "LayoutModel",
          "state": {
            "_model_module": "@jupyter-widgets/base",
            "_model_module_version": "1.2.0",
            "_model_name": "LayoutModel",
            "_view_count": null,
            "_view_module": "@jupyter-widgets/base",
            "_view_module_version": "1.2.0",
            "_view_name": "LayoutView",
            "align_content": null,
            "align_items": "center",
            "align_self": null,
            "border": null,
            "bottom": null,
            "display": "flex",
            "flex": null,
            "flex_flow": "column",
            "grid_area": null,
            "grid_auto_columns": null,
            "grid_auto_flow": null,
            "grid_auto_rows": null,
            "grid_column": null,
            "grid_gap": null,
            "grid_row": null,
            "grid_template_areas": null,
            "grid_template_columns": null,
            "grid_template_rows": null,
            "height": null,
            "justify_content": null,
            "justify_items": null,
            "left": null,
            "margin": null,
            "max_height": null,
            "max_width": null,
            "min_height": null,
            "min_width": null,
            "object_fit": null,
            "object_position": null,
            "order": null,
            "overflow": null,
            "overflow_x": null,
            "overflow_y": null,
            "padding": null,
            "right": null,
            "top": null,
            "visibility": null,
            "width": "50%"
          }
        }
      }
    }
  },
  "nbformat": 4,
  "nbformat_minor": 0
}
